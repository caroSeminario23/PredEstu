{
 "cells": [
  {
   "cell_type": "markdown",
   "id": "924d40fa",
   "metadata": {},
   "source": [
    "# CREACIÓN DE DATASET PARA ENTRENAMIENTO"
   ]
  },
  {
   "cell_type": "code",
   "execution_count": 1,
   "id": "c56310a4",
   "metadata": {},
   "outputs": [
    {
     "name": "stdout",
     "output_type": "stream",
     "text": [
      "Requirement already satisfied: pandas in c:\\users\\carolina\\documents\\proyectos_programacion\\predestu\\.venv\\lib\\site-packages (2.3.1)\n",
      "Requirement already satisfied: numpy>=1.26.0 in c:\\users\\carolina\\documents\\proyectos_programacion\\predestu\\.venv\\lib\\site-packages (from pandas) (2.3.1)\n",
      "Requirement already satisfied: python-dateutil>=2.8.2 in c:\\users\\carolina\\documents\\proyectos_programacion\\predestu\\.venv\\lib\\site-packages (from pandas) (2.9.0.post0)\n",
      "Requirement already satisfied: pytz>=2020.1 in c:\\users\\carolina\\documents\\proyectos_programacion\\predestu\\.venv\\lib\\site-packages (from pandas) (2025.2)\n",
      "Requirement already satisfied: tzdata>=2022.7 in c:\\users\\carolina\\documents\\proyectos_programacion\\predestu\\.venv\\lib\\site-packages (from pandas) (2025.2)\n",
      "Requirement already satisfied: six>=1.5 in c:\\users\\carolina\\documents\\proyectos_programacion\\predestu\\.venv\\lib\\site-packages (from python-dateutil>=2.8.2->pandas) (1.17.0)\n",
      "Note: you may need to restart the kernel to use updated packages.\n"
     ]
    }
   ],
   "source": [
    "# INSTALACIÓN DE LIBRERÍAS NECESARIAS\n",
    "%pip install pandas"
   ]
  },
  {
   "cell_type": "code",
   "execution_count": 2,
   "id": "575caa4b",
   "metadata": {},
   "outputs": [],
   "source": [
    "# IMPORTACIÓN DE LIBRERÍAS\n",
    "import pandas as pd"
   ]
  },
  {
   "cell_type": "code",
   "execution_count": 59,
   "id": "01d33ff6",
   "metadata": {},
   "outputs": [
    {
     "name": "stderr",
     "output_type": "stream",
     "text": [
      "C:\\Users\\carolina\\AppData\\Local\\Temp\\ipykernel_13008\\324333355.py:4: DtypeWarning: Columns (1) have mixed types. Specify dtype option on import or set low_memory=False.\n",
      "  df_cursos_tomados = pd.read_csv('../fuentes_datos/datasets_finales/CSV/curso_tomado_completo.csv', sep=';')\n"
     ]
    }
   ],
   "source": [
    "# CARGAR DATASETS\n",
    "df_estudiantes = pd.read_csv('../fuentes_datos/datasets_finales/CSV/estudiante.csv', sep=';')\n",
    "df_tutorias = pd.read_csv('../fuentes_datos/datasets_finales/CSV/tutorias_completo.csv', sep=';')\n",
    "df_cursos_tomados = pd.read_csv('../fuentes_datos/datasets_finales/CSV/curso_tomado_completo.csv', sep=';')\n",
    "df_reprobaciones = pd.read_csv('../fuentes_datos/datasets_finales/CSV/reprobacion_completo.csv', sep=';')\n",
    "df_test_acra = pd.read_csv('../fuentes_datos/datasets_finales/CSV/test_acra.csv', sep=';')"
   ]
  },
  {
   "cell_type": "code",
   "execution_count": 60,
   "id": "d1843120",
   "metadata": {},
   "outputs": [],
   "source": [
    "# DATASET CON LA MITAD DE LOS DATOS DE LOS DATAFRAMES\n",
    "df_tutorias2 = df_tutorias.sample(frac=0.5, random_state=42)\n",
    "df_cursos_tomados2 = df_cursos_tomados.sample(frac=0.25, random_state=42)\n",
    "df_reprobaciones2 = df_reprobaciones.sample(frac=0.25, random_state=42)"
   ]
  },
  {
   "cell_type": "code",
   "execution_count": 61,
   "id": "74d2063d",
   "metadata": {},
   "outputs": [],
   "source": [
    "# UNIÓN DEL DATASET ESTUDIANTES CON TEST ACRA\n",
    "df_union1 = pd.merge(df_estudiantes, df_test_acra, on='correo', how='inner')"
   ]
  },
  {
   "cell_type": "code",
   "execution_count": 62,
   "id": "9f805272",
   "metadata": {},
   "outputs": [
    {
     "name": "stdout",
     "output_type": "stream",
     "text": [
      "DATASET UNIÓN ESTUDIANTES CON ACRA\n",
      "   id_estudiante  id_escuela  id_plan  anio_ingreso  \\\n",
      "0       14200123           1        1            14   \n",
      "1       20200147           1        3            20   \n",
      "2       21200121           1        3            21   \n",
      "3       19200300           2        7            19   \n",
      "4       20200152           1        3            20   \n",
      "\n",
      "                          correo edad sexo  condicion_estudiante  \\\n",
      "0    alexandra.ajen@unmsm.edu.pe   26    F                     2   \n",
      "1      sergio.alejo@unmsm.edu.pe   21    M                     1   \n",
      "2       jose.apaza2@unmsm.edu.pe   21    M                     1   \n",
      "3  esmeralda.arango@unmsm.edu.pe   21    F                     1   \n",
      "4   anderson.araujo@unmsm.edu.pe   24    M                     1   \n",
      "\n",
      "   lectura_prev_estudio  anotacion_temas_clase  ...  \\\n",
      "0                     2                      2  ...   \n",
      "1                     2                      3  ...   \n",
      "2                     2                      2  ...   \n",
      "3                     3                      3  ...   \n",
      "4                     1                      1  ...   \n",
      "\n",
      "   resolucion_conflictos_previos  interaccion_social_estudio  \\\n",
      "0                              3                           1   \n",
      "1                              3                           2   \n",
      "2                              2                           2   \n",
      "3                              2                           3   \n",
      "4                              2                           2   \n",
      "\n",
      "   motivacion_conocimiento  motivacion_evitar_consecuencias  \\\n",
      "0                        3                                3   \n",
      "1                        3                                2   \n",
      "2                        2                                2   \n",
      "3                        3                                2   \n",
      "4                        2                                3   \n",
      "\n",
      "   adaptacion_estrategias_aprendizaje  dialogo_resolutivo_conflictos  \\\n",
      "0                                   2                              1   \n",
      "1                                   4                              4   \n",
      "2                                   2                              2   \n",
      "3                                   3                              3   \n",
      "4                                   2                              1   \n",
      "\n",
      "   motivacion_orgullo_personal  control_ambiente_estudio  Unnamed: 63  \\\n",
      "0                            2                         3          NaN   \n",
      "1                            4                         3          NaN   \n",
      "2                            2                         2          NaN   \n",
      "3                            3                         3          NaN   \n",
      "4                            1                         2          NaN   \n",
      "\n",
      "   Unnamed: 64  \n",
      "0          NaN  \n",
      "1          NaN  \n",
      "2          NaN  \n",
      "3          NaN  \n",
      "4          NaN  \n",
      "\n",
      "[5 rows x 69 columns]\n"
     ]
    }
   ],
   "source": [
    "print(\"DATASET UNIÓN ESTUDIANTES CON ACRA\")\n",
    "print(df_union1.head(5))  # Muestra los primeros 5 registros"
   ]
  },
  {
   "cell_type": "code",
   "execution_count": 63,
   "id": "69dc85c5",
   "metadata": {},
   "outputs": [
    {
     "name": "stdout",
     "output_type": "stream",
     "text": [
      "Número de registros en df_union1: 126\n"
     ]
    }
   ],
   "source": [
    "n_registros_union1 = df_union1.shape[0]\n",
    "print(f\"Número de registros en df_union1: {n_registros_union1}\")"
   ]
  },
  {
   "cell_type": "code",
   "execution_count": 64,
   "id": "5c0dffb8",
   "metadata": {},
   "outputs": [],
   "source": [
    "# UNIÓN DEL DATASET UNION 1 CON TUTORIAS\n",
    "df_union2 = pd.merge(df_union1, df_tutorias2, on='id_estudiante', how='inner')"
   ]
  },
  {
   "cell_type": "code",
   "execution_count": 65,
   "id": "b4a9b54c",
   "metadata": {},
   "outputs": [
    {
     "name": "stdout",
     "output_type": "stream",
     "text": [
      "DATASET UNION 1 CON TUTORÍAS\n",
      "   id_estudiante  id_escuela  id_plan  anio_ingreso  \\\n",
      "0       14200123           1        1            14   \n",
      "1       14200123           1        1            14   \n",
      "2       14200123           1        1            14   \n",
      "3       14200123           1        1            14   \n",
      "4       14200123           1        1            14   \n",
      "\n",
      "                        correo edad sexo  condicion_estudiante  \\\n",
      "0  alexandra.ajen@unmsm.edu.pe   26    F                     2   \n",
      "1  alexandra.ajen@unmsm.edu.pe   26    F                     2   \n",
      "2  alexandra.ajen@unmsm.edu.pe   26    F                     2   \n",
      "3  alexandra.ajen@unmsm.edu.pe   26    F                     2   \n",
      "4  alexandra.ajen@unmsm.edu.pe   26    F                     2   \n",
      "\n",
      "   lectura_prev_estudio  anotacion_temas_clase  ...  \\\n",
      "0                     2                      2  ...   \n",
      "1                     2                      2  ...   \n",
      "2                     2                      2  ...   \n",
      "3                     2                      2  ...   \n",
      "4                     2                      2  ...   \n",
      "\n",
      "   adaptacion_estrategias_aprendizaje  dialogo_resolutivo_conflictos  \\\n",
      "0                                   2                              1   \n",
      "1                                   2                              1   \n",
      "2                                   2                              1   \n",
      "3                                   2                              1   \n",
      "4                                   2                              1   \n",
      "\n",
      "   motivacion_orgullo_personal  control_ambiente_estudio  Unnamed: 63  \\\n",
      "0                            2                         3          NaN   \n",
      "1                            2                         3          NaN   \n",
      "2                            2                         3          NaN   \n",
      "3                            2                         3          NaN   \n",
      "4                            2                         3          NaN   \n",
      "\n",
      "   Unnamed: 64  id_tutoria  id_semestre  tipo_autorizacion  num_res_autoriza  \n",
      "0          NaN      3435.0         30.0                 AM  RD 448-D-FISI-30  \n",
      "1          NaN      3386.0         32.0                 TO  RD 504-D-FISI-32  \n",
      "2          NaN      3431.0         16.0                 AM  RD 323-D-FISI-16  \n",
      "3          NaN      3430.0          8.0                 AM   RD 411-D-FISI-8  \n",
      "4          NaN      3381.0         13.0                 AM  RD 700-D-FISI-13  \n",
      "\n",
      "[5 rows x 73 columns]\n"
     ]
    }
   ],
   "source": [
    "print(\"DATASET UNION 1 CON TUTORÍAS\")\n",
    "print(df_union2.head(5))  # Muestra los primeros 5 registros"
   ]
  },
  {
   "cell_type": "code",
   "execution_count": 66,
   "id": "5788ba04",
   "metadata": {},
   "outputs": [
    {
     "name": "stdout",
     "output_type": "stream",
     "text": [
      "Número de registros en df_union2: 2209\n"
     ]
    }
   ],
   "source": [
    "n_registros_union2 = df_union2.shape[0]\n",
    "print(f\"Número de registros en df_union2: {n_registros_union2}\")"
   ]
  },
  {
   "cell_type": "code",
   "execution_count": 67,
   "id": "276f7014",
   "metadata": {},
   "outputs": [],
   "source": [
    "# UNIÓN DEL DATASET UNION2 CON CURSOS_TOMADOS\n",
    "df_union3 = pd.merge(df_union2, df_cursos_tomados2, on='id_estudiante', how='inner')"
   ]
  },
  {
   "cell_type": "code",
   "execution_count": 68,
   "id": "472b5b59",
   "metadata": {},
   "outputs": [
    {
     "name": "stdout",
     "output_type": "stream",
     "text": [
      "DATASET UNIÓN2 CON CURSOS_TOMADOS\n",
      "  id_estudiante  id_escuela  id_plan  anio_ingreso  \\\n",
      "0      14200123           1        1            14   \n",
      "1      14200123           1        1            14   \n",
      "2      14200123           1        1            14   \n",
      "3      14200123           1        1            14   \n",
      "4      14200123           1        1            14   \n",
      "\n",
      "                        correo edad sexo  condicion_estudiante  \\\n",
      "0  alexandra.ajen@unmsm.edu.pe   26    F                     2   \n",
      "1  alexandra.ajen@unmsm.edu.pe   26    F                     2   \n",
      "2  alexandra.ajen@unmsm.edu.pe   26    F                     2   \n",
      "3  alexandra.ajen@unmsm.edu.pe   26    F                     2   \n",
      "4  alexandra.ajen@unmsm.edu.pe   26    F                     2   \n",
      "\n",
      "   lectura_prev_estudio  anotacion_temas_clase  ...  Unnamed: 64  id_tutoria  \\\n",
      "0                     2                      2  ...          NaN      3435.0   \n",
      "1                     2                      2  ...          NaN      3435.0   \n",
      "2                     2                      2  ...          NaN      3435.0   \n",
      "3                     2                      2  ...          NaN      3435.0   \n",
      "4                     2                      2  ...          NaN      3435.0   \n",
      "\n",
      "   id_semestre_x  tipo_autorizacion  num_res_autoriza   id_ct   id_curso  \\\n",
      "0           30.0                 AM  RD 448-D-FISI-30  488399  202SW0905   \n",
      "1           30.0                 AM  RD 448-D-FISI-30  488352   202W0606   \n",
      "2           30.0                 AM  RD 448-D-FISI-30  488380   202W0801   \n",
      "3           30.0                 AM  RD 448-D-FISI-30  488391  202SW0207   \n",
      "4           30.0                 AM  RD 448-D-FISI-30  488384     INE016   \n",
      "\n",
      "   id_semestre_y  nota  id_ciclo  \n",
      "0             37    10        83  \n",
      "1             27    16        70  \n",
      "2             33    18        72  \n",
      "3             36    19        76  \n",
      "4             34    19        23  \n",
      "\n",
      "[5 rows x 78 columns]\n"
     ]
    }
   ],
   "source": [
    "print(\"DATASET UNIÓN2 CON CURSOS_TOMADOS\")\n",
    "print(df_union3.head(5))  # Muestra los primeros 5 registros"
   ]
  },
  {
   "cell_type": "code",
   "execution_count": 69,
   "id": "32d033db",
   "metadata": {},
   "outputs": [
    {
     "name": "stdout",
     "output_type": "stream",
     "text": [
      "Número de registros en df_union3: 72347\n"
     ]
    }
   ],
   "source": [
    "n_registros_union3 = df_union3.shape[0]\n",
    "print(f\"Número de registros en df_union3: {n_registros_union3}\")"
   ]
  },
  {
   "cell_type": "code",
   "execution_count": 70,
   "id": "389bdba0",
   "metadata": {},
   "outputs": [],
   "source": [
    "# UNIÓN DEL DATASET UNION3 CON REPROBACIONES\n",
    "df_union4 = pd.merge(df_union3, df_reprobaciones2, on='id_estudiante', how='inner')"
   ]
  },
  {
   "cell_type": "code",
   "execution_count": 71,
   "id": "76d2cfeb",
   "metadata": {},
   "outputs": [
    {
     "name": "stdout",
     "output_type": "stream",
     "text": [
      "DATASET UNIÓN3 CON REPROBACIONES\n",
      "  id_estudiante  id_escuela  id_plan  anio_ingreso  \\\n",
      "0      14200123           1        1            14   \n",
      "1      14200123           1        1            14   \n",
      "2      14200123           1        1            14   \n",
      "3      14200123           1        1            14   \n",
      "4      14200123           1        1            14   \n",
      "\n",
      "                        correo edad sexo  condicion_estudiante  \\\n",
      "0  alexandra.ajen@unmsm.edu.pe   26    F                     2   \n",
      "1  alexandra.ajen@unmsm.edu.pe   26    F                     2   \n",
      "2  alexandra.ajen@unmsm.edu.pe   26    F                     2   \n",
      "3  alexandra.ajen@unmsm.edu.pe   26    F                     2   \n",
      "4  alexandra.ajen@unmsm.edu.pe   26    F                     2   \n",
      "\n",
      "   lectura_prev_estudio  anotacion_temas_clase  ...  tipo_autorizacion  \\\n",
      "0                     2                      2  ...                 AM   \n",
      "1                     2                      2  ...                 AM   \n",
      "2                     2                      2  ...                 AM   \n",
      "3                     2                      2  ...                 AM   \n",
      "4                     2                      2  ...                 AM   \n",
      "\n",
      "   num_res_autoriza   id_ct  id_curso_x  id_semestre_y  nota  id_ciclo  \\\n",
      "0  RD 448-D-FISI-30  488399   202SW0905             37    10        83   \n",
      "1  RD 448-D-FISI-30  488399   202SW0905             37    10        83   \n",
      "2  RD 448-D-FISI-30  488399   202SW0905             37    10        83   \n",
      "3  RD 448-D-FISI-30  488399   202SW0905             37    10        83   \n",
      "4  RD 448-D-FISI-30  488399   202SW0905             37    10        83   \n",
      "\n",
      "   id_curso_y  n_reprobaciones  id_semestre  \n",
      "0   202SW0605                1            9  \n",
      "1     20W0802                1           28  \n",
      "2   202SW0E09                1           40  \n",
      "3     20W0601                1           16  \n",
      "4   202SW0905                1           37  \n",
      "\n",
      "[5 rows x 81 columns]\n"
     ]
    }
   ],
   "source": [
    "print(\"DATASET UNIÓN3 CON REPROBACIONES\")\n",
    "print(df_union4.head(5))  # Muestra los primeros 5 registros"
   ]
  },
  {
   "cell_type": "code",
   "execution_count": 72,
   "id": "f4eab47c",
   "metadata": {},
   "outputs": [
    {
     "name": "stdout",
     "output_type": "stream",
     "text": [
      "Número de registros en df_union4: 886660\n"
     ]
    }
   ],
   "source": [
    "n_registros_union4 = df_union4.shape[0]\n",
    "print(f\"Número de registros en df_union4: {n_registros_union4}\")"
   ]
  },
  {
   "cell_type": "code",
   "execution_count": 73,
   "id": "afe30ba5",
   "metadata": {},
   "outputs": [],
   "source": [
    "# Agregar columna con el número de tutorías por estudiante, sin perder las demás columnas\n",
    "df_union4[\"n_tutorias\"] = df_union4.groupby(\"id_estudiante\")[\"id_estudiante\"].transform(\"count\")"
   ]
  },
  {
   "cell_type": "code",
   "execution_count": 74,
   "id": "1c70cf89",
   "metadata": {},
   "outputs": [
    {
     "name": "stdout",
     "output_type": "stream",
     "text": [
      "Número de registros en df_union4: 886660\n"
     ]
    }
   ],
   "source": [
    "n_registros_union4 = df_union4.shape[0]\n",
    "print(f\"Número de registros en df_union4: {n_registros_union4}\")"
   ]
  },
  {
   "cell_type": "code",
   "execution_count": 75,
   "id": "939440b5",
   "metadata": {},
   "outputs": [
    {
     "name": "stdout",
     "output_type": "stream",
     "text": [
      "Columnas del dataset final:\n"
     ]
    },
    {
     "data": {
      "text/plain": [
       "['id_estudiante',\n",
       " 'id_escuela',\n",
       " 'id_plan',\n",
       " 'anio_ingreso',\n",
       " 'correo',\n",
       " 'edad',\n",
       " 'sexo',\n",
       " 'condicion_estudiante',\n",
       " 'lectura_prev_estudio',\n",
       " 'anotacion_temas_clase',\n",
       " 'subrayado_importante',\n",
       " 'uso_signos_personales',\n",
       " 'subrayado_memorizacion',\n",
       " 'anotaciones_marginales',\n",
       " 'repeticion_datos_relevantes',\n",
       " 'lectura_en_voz_alta',\n",
       " 'resumen_mental',\n",
       " 'autoevaluacion_aprendizaje',\n",
       " 'preguntas_entre_pares',\n",
       " 'representacion_visual_ideas',\n",
       " 'reorganizacion_personal_contenido',\n",
       " 'transferencia_conocimiento',\n",
       " 'discusion_colaborativa_contenido',\n",
       " 'analogias_conocimiento_previos',\n",
       " 'aplicacion_laboral_contenido',\n",
       " 'preguntas_durante_clase',\n",
       " 'preguntas_previas_estudio',\n",
       " 'aprendizaje_palabras_propias',\n",
       " 'obtencion_conclusiones',\n",
       " 'clasificacion_personal_datos',\n",
       " 'resumen_por_apartados',\n",
       " 'resumen_post_tema',\n",
       " 'resumen_basado_subrayado',\n",
       " 'organizacion_criterio_logico',\n",
       " 'secuencia_temporal_historica',\n",
       " 'diagramas_procedimentales',\n",
       " 'mapas_conceptuales_post_estudio',\n",
       " 'diagramas_en_v',\n",
       " 'memorizacion_ubicacion_espacial',\n",
       " 'identificacion_estructura_texto',\n",
       " 'aplicacion_practica_contenido',\n",
       " 'recuerdo_estructuras_previas',\n",
       " 'recuperacion_por_asociacion',\n",
       " 'aprovechamiento_observaciones_profesor',\n",
       " 'esquema_previo_redaccion',\n",
       " 'cuidado_presentacion_examen',\n",
       " 'analisis_datos_previos',\n",
       " 'preparacion_mental_mensaje',\n",
       " 'planificacion_solucion_problemas',\n",
       " 'uso_datos_secundarios',\n",
       " 'conciencia_estrategias_memoria',\n",
       " 'uso_herramientas_organizacion',\n",
       " 'registro_tareas_asignatura',\n",
       " 'gestion_tiempo_estudio',\n",
       " 'planificacion_estrategias_examen',\n",
       " 'monitoreo_estrategias_estudio',\n",
       " 'evaluacion_estrategias_examen',\n",
       " 'autoregulación_emocional_examen',\n",
       " 'visualizacion_para_calma',\n",
       " 'resolucion_conflictos_previos',\n",
       " 'interaccion_social_estudio',\n",
       " 'motivacion_conocimiento',\n",
       " 'motivacion_evitar_consecuencias',\n",
       " 'adaptacion_estrategias_aprendizaje',\n",
       " 'dialogo_resolutivo_conflictos',\n",
       " 'motivacion_orgullo_personal',\n",
       " 'control_ambiente_estudio',\n",
       " 'Unnamed: 63',\n",
       " 'Unnamed: 64',\n",
       " 'id_tutoria',\n",
       " 'id_semestre_x',\n",
       " 'tipo_autorizacion',\n",
       " 'num_res_autoriza',\n",
       " 'id_ct',\n",
       " 'id_curso_x',\n",
       " 'id_semestre_y',\n",
       " 'nota',\n",
       " 'id_ciclo',\n",
       " 'id_curso_y',\n",
       " 'n_reprobaciones',\n",
       " 'id_semestre',\n",
       " 'n_tutorias']"
      ]
     },
     "execution_count": 75,
     "metadata": {},
     "output_type": "execute_result"
    }
   ],
   "source": [
    "# MOSTRAR LOS COLUMNAS DEL DATASET FINAL\n",
    "print(\"Columnas del dataset final:\")\n",
    "df_union4.columns.tolist()"
   ]
  },
  {
   "cell_type": "code",
   "execution_count": 76,
   "id": "e39d418e",
   "metadata": {},
   "outputs": [],
   "source": [
    "# ELIMINACIÓN DE COLUMNAS NO NECESARIAS\n",
    "df_union4.drop(columns=['id_estudiante', 'anio_ingreso', 'correo', 'edad', 'sexo', 'Unnamed: 63', 'Unnamed: 64', 'id_tutoria', 'id_semestre_x', 'tipo_autorizacion','num_res_autoriza', 'id_ct', 'id_curso_x', 'id_semestre_y', 'id_curso_y'], inplace=True)"
   ]
  },
  {
   "cell_type": "code",
   "execution_count": 77,
   "id": "256fd39c",
   "metadata": {},
   "outputs": [
    {
     "name": "stdout",
     "output_type": "stream",
     "text": [
      "Columnas del dataset final:\n"
     ]
    },
    {
     "data": {
      "text/plain": [
       "['id_escuela',\n",
       " 'id_plan',\n",
       " 'condicion_estudiante',\n",
       " 'lectura_prev_estudio',\n",
       " 'anotacion_temas_clase',\n",
       " 'subrayado_importante',\n",
       " 'uso_signos_personales',\n",
       " 'subrayado_memorizacion',\n",
       " 'anotaciones_marginales',\n",
       " 'repeticion_datos_relevantes',\n",
       " 'lectura_en_voz_alta',\n",
       " 'resumen_mental',\n",
       " 'autoevaluacion_aprendizaje',\n",
       " 'preguntas_entre_pares',\n",
       " 'representacion_visual_ideas',\n",
       " 'reorganizacion_personal_contenido',\n",
       " 'transferencia_conocimiento',\n",
       " 'discusion_colaborativa_contenido',\n",
       " 'analogias_conocimiento_previos',\n",
       " 'aplicacion_laboral_contenido',\n",
       " 'preguntas_durante_clase',\n",
       " 'preguntas_previas_estudio',\n",
       " 'aprendizaje_palabras_propias',\n",
       " 'obtencion_conclusiones',\n",
       " 'clasificacion_personal_datos',\n",
       " 'resumen_por_apartados',\n",
       " 'resumen_post_tema',\n",
       " 'resumen_basado_subrayado',\n",
       " 'organizacion_criterio_logico',\n",
       " 'secuencia_temporal_historica',\n",
       " 'diagramas_procedimentales',\n",
       " 'mapas_conceptuales_post_estudio',\n",
       " 'diagramas_en_v',\n",
       " 'memorizacion_ubicacion_espacial',\n",
       " 'identificacion_estructura_texto',\n",
       " 'aplicacion_practica_contenido',\n",
       " 'recuerdo_estructuras_previas',\n",
       " 'recuperacion_por_asociacion',\n",
       " 'aprovechamiento_observaciones_profesor',\n",
       " 'esquema_previo_redaccion',\n",
       " 'cuidado_presentacion_examen',\n",
       " 'analisis_datos_previos',\n",
       " 'preparacion_mental_mensaje',\n",
       " 'planificacion_solucion_problemas',\n",
       " 'uso_datos_secundarios',\n",
       " 'conciencia_estrategias_memoria',\n",
       " 'uso_herramientas_organizacion',\n",
       " 'registro_tareas_asignatura',\n",
       " 'gestion_tiempo_estudio',\n",
       " 'planificacion_estrategias_examen',\n",
       " 'monitoreo_estrategias_estudio',\n",
       " 'evaluacion_estrategias_examen',\n",
       " 'autoregulación_emocional_examen',\n",
       " 'visualizacion_para_calma',\n",
       " 'resolucion_conflictos_previos',\n",
       " 'interaccion_social_estudio',\n",
       " 'motivacion_conocimiento',\n",
       " 'motivacion_evitar_consecuencias',\n",
       " 'adaptacion_estrategias_aprendizaje',\n",
       " 'dialogo_resolutivo_conflictos',\n",
       " 'motivacion_orgullo_personal',\n",
       " 'control_ambiente_estudio',\n",
       " 'nota',\n",
       " 'id_ciclo',\n",
       " 'n_reprobaciones',\n",
       " 'id_semestre',\n",
       " 'n_tutorias']"
      ]
     },
     "execution_count": 77,
     "metadata": {},
     "output_type": "execute_result"
    }
   ],
   "source": [
    "# MOSTRAR LOS COLUMNAS DEL DATASET FINAL\n",
    "print(\"Columnas del dataset final:\")\n",
    "df_union4.columns.tolist()"
   ]
  },
  {
   "cell_type": "code",
   "execution_count": 78,
   "id": "5b5c3034",
   "metadata": {},
   "outputs": [],
   "source": [
    "# CLASIFICACIÓN DEL RIESGO ACADÉMICO\n",
    "def clasificar_riesgo(nota):\n",
    "    if nota < 10:\n",
    "        return 0  # Muy bajo\n",
    "    elif nota < 12:\n",
    "        return 1  # Bajo\n",
    "    elif nota < 15:\n",
    "        return 2  # Medio\n",
    "    elif nota < 18:\n",
    "        return 3  # Bueno\n",
    "    else:\n",
    "        return 4  # Muy bueno"
   ]
  },
  {
   "cell_type": "code",
   "execution_count": 79,
   "id": "d4b950c1",
   "metadata": {},
   "outputs": [],
   "source": [
    "df_union5 = df_union4.copy()"
   ]
  },
  {
   "cell_type": "code",
   "execution_count": 80,
   "id": "3b1ab45b",
   "metadata": {},
   "outputs": [],
   "source": [
    "df_union5['riesgo_academico'] = df_union5['nota'].apply(clasificar_riesgo)"
   ]
  },
  {
   "cell_type": "code",
   "execution_count": 81,
   "id": "d0e4d746",
   "metadata": {},
   "outputs": [],
   "source": [
    "# CONVERSIÓN DE N_TUTORIAS A BINARIAS (0 = No, 1 = Sí)\n",
    "df_union5['n_tutorias'] = df_union5['n_tutorias'].apply(lambda x: 1 if x > 0 else 0)"
   ]
  },
  {
   "cell_type": "code",
   "execution_count": 82,
   "id": "76818852",
   "metadata": {},
   "outputs": [],
   "source": [
    "# CONVERSIÓN DE ESTRATEGIAS ACRA A USO_ACRA_ACTIVO (NUMÉRICO)\n",
    "acra_cols = [\n",
    " 'condicion_estudiante', 'lectura_prev_estudio', 'anotacion_temas_clase',\n",
    " 'subrayado_importante', 'uso_signos_personales', 'subrayado_memorizacion',\n",
    " 'anotaciones_marginales', 'repeticion_datos_relevantes', 'lectura_en_voz_alta',\n",
    " 'resumen_mental', 'autoevaluacion_aprendizaje', 'preguntas_entre_pares',\n",
    " 'representacion_visual_ideas', 'reorganizacion_personal_contenido', 'transferencia_conocimiento',\n",
    " 'discusion_colaborativa_contenido', 'analogias_conocimiento_previos', 'aplicacion_laboral_contenido',\n",
    " 'preguntas_durante_clase', 'preguntas_previas_estudio', 'aprendizaje_palabras_propias',\n",
    " 'obtencion_conclusiones', 'clasificacion_personal_datos', 'resumen_por_apartados',\n",
    " 'resumen_post_tema', 'resumen_basado_subrayado', 'organizacion_criterio_logico',\n",
    " 'secuencia_temporal_historica', 'diagramas_procedimentales', 'mapas_conceptuales_post_estudio',\n",
    " 'diagramas_en_v', 'memorizacion_ubicacion_espacial', 'identificacion_estructura_texto',\n",
    " 'aplicacion_practica_contenido', 'recuerdo_estructuras_previas', 'recuperacion_por_asociacion',\n",
    " 'aprovechamiento_observaciones_profesor', 'esquema_previo_redaccion', 'cuidado_presentacion_examen',\n",
    " 'analisis_datos_previos', 'preparacion_mental_mensaje', 'planificacion_solucion_problemas',\n",
    " 'uso_datos_secundarios', 'conciencia_estrategias_memoria', 'uso_herramientas_organizacion',\n",
    " 'registro_tareas_asignatura', 'gestion_tiempo_estudio', 'planificacion_estrategias_examen',\n",
    " 'monitoreo_estrategias_estudio', 'evaluacion_estrategias_examen', 'autoregulación_emocional_examen',\n",
    " 'visualizacion_para_calma', 'resolucion_conflictos_previos', 'interaccion_social_estudio',\n",
    " 'motivacion_conocimiento', 'motivacion_evitar_consecuencias', 'adaptacion_estrategias_aprendizaje',\n",
    " 'dialogo_resolutivo_conflictos', 'motivacion_orgullo_personal', 'control_ambiente_estudio'\n",
    "]\n",
    "\n",
    "df_union5['uso_acra_total'] = df_union5[acra_cols].sum(axis=1)\n"
   ]
  },
  {
   "cell_type": "code",
   "execution_count": 83,
   "id": "9552d9ba",
   "metadata": {},
   "outputs": [],
   "source": [
    "# CONVERSIÓN DE uso_acra_total A BINARIAS (0 = SI ES MENOR A 147.5, 1 = SI ES IGUAL O MAYOR A 147.5)\n",
    "df_union5['uso_acra'] = df_union5['uso_acra_total'].apply(lambda x: 1 if x >= 147.5 else 0)\n"
   ]
  },
  {
   "cell_type": "code",
   "execution_count": 84,
   "id": "b7ecd6b2",
   "metadata": {},
   "outputs": [
    {
     "name": "stdout",
     "output_type": "stream",
     "text": [
      "Columnas del dataset final:\n"
     ]
    },
    {
     "data": {
      "text/plain": [
       "['id_escuela',\n",
       " 'id_plan',\n",
       " 'condicion_estudiante',\n",
       " 'lectura_prev_estudio',\n",
       " 'anotacion_temas_clase',\n",
       " 'subrayado_importante',\n",
       " 'uso_signos_personales',\n",
       " 'subrayado_memorizacion',\n",
       " 'anotaciones_marginales',\n",
       " 'repeticion_datos_relevantes',\n",
       " 'lectura_en_voz_alta',\n",
       " 'resumen_mental',\n",
       " 'autoevaluacion_aprendizaje',\n",
       " 'preguntas_entre_pares',\n",
       " 'representacion_visual_ideas',\n",
       " 'reorganizacion_personal_contenido',\n",
       " 'transferencia_conocimiento',\n",
       " 'discusion_colaborativa_contenido',\n",
       " 'analogias_conocimiento_previos',\n",
       " 'aplicacion_laboral_contenido',\n",
       " 'preguntas_durante_clase',\n",
       " 'preguntas_previas_estudio',\n",
       " 'aprendizaje_palabras_propias',\n",
       " 'obtencion_conclusiones',\n",
       " 'clasificacion_personal_datos',\n",
       " 'resumen_por_apartados',\n",
       " 'resumen_post_tema',\n",
       " 'resumen_basado_subrayado',\n",
       " 'organizacion_criterio_logico',\n",
       " 'secuencia_temporal_historica',\n",
       " 'diagramas_procedimentales',\n",
       " 'mapas_conceptuales_post_estudio',\n",
       " 'diagramas_en_v',\n",
       " 'memorizacion_ubicacion_espacial',\n",
       " 'identificacion_estructura_texto',\n",
       " 'aplicacion_practica_contenido',\n",
       " 'recuerdo_estructuras_previas',\n",
       " 'recuperacion_por_asociacion',\n",
       " 'aprovechamiento_observaciones_profesor',\n",
       " 'esquema_previo_redaccion',\n",
       " 'cuidado_presentacion_examen',\n",
       " 'analisis_datos_previos',\n",
       " 'preparacion_mental_mensaje',\n",
       " 'planificacion_solucion_problemas',\n",
       " 'uso_datos_secundarios',\n",
       " 'conciencia_estrategias_memoria',\n",
       " 'uso_herramientas_organizacion',\n",
       " 'registro_tareas_asignatura',\n",
       " 'gestion_tiempo_estudio',\n",
       " 'planificacion_estrategias_examen',\n",
       " 'monitoreo_estrategias_estudio',\n",
       " 'evaluacion_estrategias_examen',\n",
       " 'autoregulación_emocional_examen',\n",
       " 'visualizacion_para_calma',\n",
       " 'resolucion_conflictos_previos',\n",
       " 'interaccion_social_estudio',\n",
       " 'motivacion_conocimiento',\n",
       " 'motivacion_evitar_consecuencias',\n",
       " 'adaptacion_estrategias_aprendizaje',\n",
       " 'dialogo_resolutivo_conflictos',\n",
       " 'motivacion_orgullo_personal',\n",
       " 'control_ambiente_estudio',\n",
       " 'nota',\n",
       " 'id_ciclo',\n",
       " 'n_reprobaciones',\n",
       " 'id_semestre',\n",
       " 'n_tutorias',\n",
       " 'riesgo_academico',\n",
       " 'uso_acra_total',\n",
       " 'uso_acra']"
      ]
     },
     "execution_count": 84,
     "metadata": {},
     "output_type": "execute_result"
    }
   ],
   "source": [
    "# MOSTRAR LOS COLUMNAS DEL DATASET FINAL\n",
    "print(\"Columnas del dataset final:\")\n",
    "df_union5.columns.tolist()"
   ]
  },
  {
   "cell_type": "code",
   "execution_count": 85,
   "id": "48bb55b0",
   "metadata": {},
   "outputs": [],
   "source": [
    "df_union6 = df_union5.copy()"
   ]
  },
  {
   "cell_type": "code",
   "execution_count": 86,
   "id": "1b2c6f11",
   "metadata": {},
   "outputs": [],
   "source": [
    "# ELIMINACIÓN DE COLUMNAS NO NECESARIAS\n",
    "df_union6.drop(columns=acra_cols, inplace=True)"
   ]
  },
  {
   "cell_type": "code",
   "execution_count": 87,
   "id": "ef996b55",
   "metadata": {},
   "outputs": [
    {
     "name": "stdout",
     "output_type": "stream",
     "text": [
      "Columnas del dataset final:\n"
     ]
    },
    {
     "data": {
      "text/plain": [
       "['id_escuela',\n",
       " 'id_plan',\n",
       " 'nota',\n",
       " 'id_ciclo',\n",
       " 'n_reprobaciones',\n",
       " 'id_semestre',\n",
       " 'n_tutorias',\n",
       " 'riesgo_academico',\n",
       " 'uso_acra_total',\n",
       " 'uso_acra']"
      ]
     },
     "execution_count": 87,
     "metadata": {},
     "output_type": "execute_result"
    }
   ],
   "source": [
    "# MOSTRAR LOS COLUMNAS DEL DATASET FINAL\n",
    "print(\"Columnas del dataset final:\")\n",
    "df_union6.columns.tolist()"
   ]
  },
  {
   "cell_type": "code",
   "execution_count": 88,
   "id": "84466c75",
   "metadata": {},
   "outputs": [],
   "source": [
    "# ELIMINACIÓN DE COLUMNAS NO NECESARIAS\n",
    "df_union6.drop(columns=['uso_acra_total', 'nota'], inplace=True)"
   ]
  },
  {
   "cell_type": "code",
   "execution_count": 89,
   "id": "00f2ce90",
   "metadata": {},
   "outputs": [
    {
     "name": "stdout",
     "output_type": "stream",
     "text": [
      "DATASET UNIÓN6\n",
      "   id_escuela  id_plan  id_ciclo  n_reprobaciones  id_semestre  n_tutorias  \\\n",
      "0           1        1        83                1            9           1   \n",
      "1           1        1        83                1           28           1   \n",
      "2           1        1        83                1           40           1   \n",
      "3           1        1        83                1           16           1   \n",
      "4           1        1        83                1           37           1   \n",
      "\n",
      "   riesgo_academico  uso_acra  \n",
      "0                 1         0  \n",
      "1                 1         0  \n",
      "2                 1         0  \n",
      "3                 1         0  \n",
      "4                 1         0  \n"
     ]
    }
   ],
   "source": [
    "print(\"DATASET UNIÓN6\")\n",
    "print(df_union6.head(5))  # Muestra los primeros 5 registros"
   ]
  },
  {
   "cell_type": "code",
   "execution_count": 90,
   "id": "d0abea02",
   "metadata": {},
   "outputs": [],
   "source": [
    "# RENOMABRAR COLUMNA N_TUTORIAS A TUTORIAS\n",
    "df_union6.rename(columns={'n_tutorias': 'tutorias'}, inplace=True)"
   ]
  },
  {
   "cell_type": "code",
   "execution_count": 91,
   "id": "94a6cc8d",
   "metadata": {},
   "outputs": [],
   "source": [
    "# GUARDAR EL DATASET NUEVO PARA ENTRENAMIENTO\n",
    "df_union6.to_csv('../fuentes_datos/datasets_finales/CSV/dataset_entrenamiento.csv', index=False, sep=';')"
   ]
  }
 ],
 "metadata": {
  "kernelspec": {
   "display_name": ".venv",
   "language": "python",
   "name": "python3"
  },
  "language_info": {
   "codemirror_mode": {
    "name": "ipython",
    "version": 3
   },
   "file_extension": ".py",
   "mimetype": "text/x-python",
   "name": "python",
   "nbconvert_exporter": "python",
   "pygments_lexer": "ipython3",
   "version": "3.12.5"
  }
 },
 "nbformat": 4,
 "nbformat_minor": 5
}
