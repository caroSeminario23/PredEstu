{
 "cells": [
  {
   "cell_type": "markdown",
   "id": "b80f916e",
   "metadata": {},
   "source": [
    "# CREACIÓN DE DATOS SINTÉTICOS"
   ]
  },
  {
   "cell_type": "code",
   "execution_count": 1,
   "id": "b86a180b",
   "metadata": {},
   "outputs": [
    {
     "name": "stdout",
     "output_type": "stream",
     "text": [
      "Requirement already satisfied: pandas in c:\\users\\carolina\\documents\\proyectos_programacion\\predestu\\.venv\\lib\\site-packages (2.3.1)\n",
      "Requirement already satisfied: numpy>=1.26.0 in c:\\users\\carolina\\documents\\proyectos_programacion\\predestu\\.venv\\lib\\site-packages (from pandas) (2.3.1)\n",
      "Requirement already satisfied: python-dateutil>=2.8.2 in c:\\users\\carolina\\documents\\proyectos_programacion\\predestu\\.venv\\lib\\site-packages (from pandas) (2.9.0.post0)\n",
      "Requirement already satisfied: pytz>=2020.1 in c:\\users\\carolina\\documents\\proyectos_programacion\\predestu\\.venv\\lib\\site-packages (from pandas) (2025.2)\n",
      "Requirement already satisfied: tzdata>=2022.7 in c:\\users\\carolina\\documents\\proyectos_programacion\\predestu\\.venv\\lib\\site-packages (from pandas) (2025.2)\n",
      "Requirement already satisfied: six>=1.5 in c:\\users\\carolina\\documents\\proyectos_programacion\\predestu\\.venv\\lib\\site-packages (from python-dateutil>=2.8.2->pandas) (1.17.0)\n",
      "Note: you may need to restart the kernel to use updated packages.\n",
      "Requirement already satisfied: numpy in c:\\users\\carolina\\documents\\proyectos_programacion\\predestu\\.venv\\lib\\site-packages (2.3.1)\n",
      "Note: you may need to restart the kernel to use updated packages.\n"
     ]
    }
   ],
   "source": [
    "# INSTALACIÓN DE LIBRERÍAS\n",
    "%pip install pandas\n",
    "%pip install numpy"
   ]
  },
  {
   "cell_type": "code",
   "execution_count": 2,
   "id": "c6f0e6be",
   "metadata": {},
   "outputs": [],
   "source": [
    "# IMPORTACIÓN DE LIBRERÍAS\n",
    "import pandas as pd\n",
    "import numpy as np\n",
    "import random"
   ]
  },
  {
   "cell_type": "code",
   "execution_count": 3,
   "id": "e8920469",
   "metadata": {},
   "outputs": [],
   "source": [
    "# CONFIGURACIÓN INICIAL\n",
    "np.random.seed(42)\n",
    "random.seed(42)"
   ]
  },
  {
   "cell_type": "code",
   "execution_count": 30,
   "id": "251a6f4b",
   "metadata": {},
   "outputs": [],
   "source": [
    "# CARGAR DATASETS\n",
    "df_escuelas = pd.read_csv('../fuentes_datos/datasets_finales/CSV/escuela.csv', delimiter=';')\n",
    "df_semestres = pd.read_csv('../fuentes_datos/datasets_finales/CSV/semestre.csv', delimiter=';')\n",
    "df_planes = pd.read_csv('../fuentes_datos/datasets_finales/CSV/plan.csv', delimiter=';')\n",
    "df_estudiantes = pd.read_csv('../fuentes_datos/datasets_finales/CSV/estudiante.csv', delimiter=';')\n",
    "df_cursos = pd.read_csv('../fuentes_datos/datasets_finales/CSV/curso.csv', delimiter=';')\n",
    "df_reprobaciones = pd.read_csv('../fuentes_datos/datasets_finales/CSV/reprobacion.csv', delimiter=';')\n",
    "df_tutorias = pd.read_csv('../fuentes_datos/datasets_finales/CSV/tutoria.csv', delimiter=';')\n",
    "df_curso_tomado = pd.read_csv('../fuentes_datos/datasets_finales/CSV/curso_tomado.csv', delimiter=';')"
   ]
  },
  {
   "cell_type": "code",
   "execution_count": 31,
   "id": "2941bea5",
   "metadata": {},
   "outputs": [],
   "source": [
    "# PARAMETROS BASE\n",
    "escuelas = df_escuelas.set_index('id_escuela')['nombre'].to_dict()\n",
    "#planes = df_planes.set_index('id_escuela')['anio_inicio'].to_dict() \n",
    "semestres = df_semestres.set_index('id_semestre')['nombre'].to_dict()\n",
    "#semestres = df_semestres['id_semestre'].astype(str).tolist()"
   ]
  },
  {
   "cell_type": "code",
   "execution_count": 32,
   "id": "2a3a36c4",
   "metadata": {},
   "outputs": [
    {
     "name": "stdout",
     "output_type": "stream",
     "text": [
      "DICCIONARIO ESCUELAS:\n",
      "{1: 'Ingeniería de Sistemas', 2: 'Ingeniería de Software', 3: 'Ciencias de la Computación'}\n",
      "\n",
      "LISTA SEMESTRES:\n",
      "{1: 20190, 2: 20191, 3: 20192, 4: 20200, 5: 20201, 6: 20202, 7: 20210, 8: 20211, 9: 20212, 10: 20220, 11: 20221, 12: 20222, 13: 20230, 14: 20231, 15: 20232, 16: 20240, 17: 20241, 18: 20242, 19: 20250, 20: 20251, 21: 20190, 22: 20191, 23: 20192, 24: 20200, 25: 20201, 26: 20202, 27: 20210, 28: 20211, 29: 20212, 30: 20220, 31: 20221, 32: 20222, 33: 20230, 34: 20231, 35: 20232, 36: 20240, 37: 20241, 38: 20242, 39: 20250, 40: 20251, 41: 20241, 42: 20242, 43: 20250, 44: 20251}\n"
     ]
    }
   ],
   "source": [
    "print(\"DICCIONARIO ESCUELAS:\")\n",
    "print(escuelas)\n",
    "#print(\"\\nDICCIONARIO PLANES:\")\n",
    "#print(planes)\n",
    "print(\"\\nLISTA SEMESTRES:\")\n",
    "print(semestres)"
   ]
  },
  {
   "cell_type": "code",
   "execution_count": 33,
   "id": "3edc6eaf",
   "metadata": {},
   "outputs": [],
   "source": [
    "# SEMESTRE POR ESCUELA\n",
    "semestres_sistemas = {7: 20210, 8: 20211, 9: 20212, 10: 20220, 11: 20221, 12: 20222, 13: 20230, 14: 20231, 15: 20232, 16: 20240, 17: 20241, 18: 20242, 19: 20250}\n",
    "semestres_software = {27: 20210, 28: 20211, 29: 20212, 30: 20220, 31: 20221, 32: 20222, 33: 20230, 34: 20231, 35: 20232, 36: 20240, 37: 20241, 38: 20242, 39: 20250, 40: 20251}\n",
    "semestres_ccomputacion = {41: 20241, 42: 20242, 43: 20250, 44: 20251}\n"
   ]
  },
  {
   "cell_type": "code",
   "execution_count": 39,
   "id": "0a3a4093",
   "metadata": {},
   "outputs": [
    {
     "name": "stdout",
     "output_type": "stream",
     "text": [
      "\n",
      "Último ID_CT en df_curso_tomado: 268644\n"
     ]
    }
   ],
   "source": [
    "# ULTIMO ID_CT DEL DATAFRAME DE CURSOS TOMADOS\n",
    "ultimo_id_ct1 = df_curso_tomado['id_ct'].max() if not df_curso_tomado.empty else 0\n",
    "print(f\"\\nÚltimo ID_CT en df_curso_tomado: {ultimo_id_ct1}\")"
   ]
  },
  {
   "cell_type": "code",
   "execution_count": 44,
   "id": "5efc3df3",
   "metadata": {},
   "outputs": [],
   "source": [
    "# CREACIÓN DE CALIFICACIONES SINTÉTICAS - SISTEMAS\n",
    "# Simular cursos tomados por estudiante (2021-2025)\n",
    "cursos_tomados = []\n",
    "indice = ultimo_id_ct1 + 1  # Comenzar desde el último ID_CT\n",
    "\n",
    "for _, est in df_estudiantes.iterrows():\n",
    "    for id_semestre, nombre_semestre in semestres_sistemas.items():\n",
    "        # Extrae el año del nombre del semestre (ejemplo: '2021-1'[:4] -> '2021')\n",
    "        if int(str(nombre_semestre)[:4]) >= est.anio_ingreso:\n",
    "            for _ in range(random.randint(3, 7)):\n",
    "                curso = df_cursos.sample(1).iloc[0]  # elige curso al azar\n",
    "                id_curso = curso[\"id_curso\"]\n",
    "                id_ciclo = curso[\"id_ciclo\"]\n",
    "                t_aprob = curso[\"t_aprobacion\"]  # entre 0 y 1\n",
    "\n",
    "                # Simular si aprueba o no según tasa\n",
    "                aprueba = random.random() < t_aprob\n",
    "\n",
    "                # Nota entre 11-20 si aprueba, entre 0-10 si desaprueba\n",
    "                if aprueba:\n",
    "                    nota = np.clip(np.random.normal(14.5, 2), 11, 20)\n",
    "                else:\n",
    "                    nota = np.clip(np.random.normal(9, 2.5), 0, 10)\n",
    "                \n",
    "                indice += 1\n",
    "                \n",
    "                cursos_tomados.append({\n",
    "                    \"id_ct\": indice,  # Asignar ID_CT secuencial\n",
    "                    \"id_estudiante\": est.id_estudiante,\n",
    "                    \"id_curso\": id_curso,\n",
    "                    \"id_semestre\": id_semestre,  # Usar la clave del diccionario\n",
    "                    \"nota\": int(round(nota)),\n",
    "                    \"id_ciclo\": id_ciclo\n",
    "                })"
   ]
  },
  {
   "cell_type": "code",
   "execution_count": 45,
   "id": "84c7cb66",
   "metadata": {},
   "outputs": [],
   "source": [
    "# GUARDAR EN UN DATAFRAME\n",
    "df_cursos_tomados_sistemas = pd.DataFrame(cursos_tomados)"
   ]
  },
  {
   "cell_type": "code",
   "execution_count": 46,
   "id": "aada39c1",
   "metadata": {},
   "outputs": [
    {
     "name": "stdout",
     "output_type": "stream",
     "text": [
      "DATASET CURSOS_TOMADOS 2021-2025:\n",
      "         id_ct  id_estudiante  id_curso  id_semestre  nota  id_ciclo\n",
      "105341  373987       18200108    201003           18    16         2\n",
      "105342  373988       18200108   20W0902           19    13        63\n",
      "105343  373989       18200108   2020205           19    16        45\n",
      "105344  373990       18200108  202W0301           19    15        67\n",
      "105345  373991       18200108   20W0E12           19    14        54\n"
     ]
    }
   ],
   "source": [
    "print(\"DATASET CURSOS_TOMADOS 2021-2025:\")\n",
    "print(df_cursos_tomados_sistemas.tail(5))  # Muestra los últimos 5 registros"
   ]
  },
  {
   "cell_type": "code",
   "execution_count": 47,
   "id": "b6144493",
   "metadata": {},
   "outputs": [
    {
     "name": "stdout",
     "output_type": "stream",
     "text": [
      "\n",
      "Último ID_CT en df_curso_tomado: 373991\n"
     ]
    }
   ],
   "source": [
    "# ULTIMO ID_CT DEL DATAFRAME DE CURSOS TOMADOS\n",
    "ultimo_id_ct2 = df_cursos_tomados_sistemas['id_ct'].max() if not df_cursos_tomados_sistemas.empty else 0\n",
    "print(f\"\\nÚltimo ID_CT en df_curso_tomado: {ultimo_id_ct2}\")"
   ]
  },
  {
   "cell_type": "code",
   "execution_count": 48,
   "id": "47526940",
   "metadata": {},
   "outputs": [],
   "source": [
    "# CREACIÓN DE CALIFICACIONES SINTÉTICAS - SOFTWARE\n",
    "# Simular cursos tomados por estudiante (2021-2025)\n",
    "cursos_tomados2 = []\n",
    "indice = ultimo_id_ct2 + 1  # Comenzar desde el último ID_CT\n",
    "\n",
    "for _, est in df_estudiantes.iterrows():\n",
    "    for id_semestre, nombre_semestre in semestres_software.items():\n",
    "        # Extrae el año del nombre del semestre (ejemplo: '2021-1'[:4] -> '2021')\n",
    "        if int(str(nombre_semestre)[:4]) >= est.anio_ingreso:\n",
    "            for _ in range(random.randint(3, 7)):\n",
    "                curso = df_cursos.sample(1).iloc[0]  # elige curso al azar\n",
    "                id_curso = curso[\"id_curso\"]\n",
    "                id_ciclo = curso[\"id_ciclo\"]\n",
    "                t_aprob = curso[\"t_aprobacion\"]  # entre 0 y 1\n",
    "\n",
    "                # Simular si aprueba o no según tasa\n",
    "                aprueba = random.random() < t_aprob\n",
    "\n",
    "                # Nota entre 11-20 si aprueba, entre 0-10 si desaprueba\n",
    "                if aprueba:\n",
    "                    nota = np.clip(np.random.normal(14.5, 2), 11, 20)\n",
    "                else:\n",
    "                    nota = np.clip(np.random.normal(9, 2.5), 0, 10)\n",
    "\n",
    "                indice += 1\n",
    "                \n",
    "                cursos_tomados2.append({\n",
    "                    \"id_ct\": indice,  # Asignar ID_CT secuencial\n",
    "                    \"id_estudiante\": est.id_estudiante,\n",
    "                    \"id_curso\": id_curso,\n",
    "                    \"id_semestre\": id_semestre,  # Usar la clave del diccionario\n",
    "                    \"nota\": int(round(nota)),\n",
    "                    \"id_ciclo\": id_ciclo\n",
    "                })"
   ]
  },
  {
   "cell_type": "code",
   "execution_count": 49,
   "id": "9367600d",
   "metadata": {},
   "outputs": [],
   "source": [
    "# GUARDAR EN UN DATAFRAME\n",
    "df_cursos_tomados_software = pd.DataFrame(cursos_tomados2)"
   ]
  },
  {
   "cell_type": "code",
   "execution_count": 50,
   "id": "a7d9cab2",
   "metadata": {},
   "outputs": [
    {
     "name": "stdout",
     "output_type": "stream",
     "text": [
      "DATASET CURSOS_TOMADOS 2021-2025:\n",
      "         id_ct  id_estudiante   id_curso  id_semestre  nota  id_ciclo\n",
      "113143  487136       18200108  202SW0E09           40     1        75\n",
      "113144  487137       18200108    2010202           40    15        14\n",
      "113145  487138       18200108    2020103           40    13        44\n",
      "113146  487139       18200108  202SW0203           40    17        76\n",
      "113147  487140       18200108    201203M           40    14         1\n"
     ]
    }
   ],
   "source": [
    "print(\"DATASET CURSOS_TOMADOS 2021-2025:\")\n",
    "print(df_cursos_tomados_software.tail(5))  # Muestra los últimos 5 registros"
   ]
  },
  {
   "cell_type": "code",
   "execution_count": 51,
   "id": "6f5b907d",
   "metadata": {},
   "outputs": [
    {
     "name": "stdout",
     "output_type": "stream",
     "text": [
      "\n",
      "Último ID_CT en df_curso_tomado: 487140\n"
     ]
    }
   ],
   "source": [
    "# ULTIMO ID_CT DEL DATAFRAME DE CURSOS TOMADOS\n",
    "ultimo_id_ct3 = df_cursos_tomados_software['id_ct'].max() if not df_cursos_tomados_software.empty else 0\n",
    "print(f\"\\nÚltimo ID_CT en df_curso_tomado: {ultimo_id_ct3}\")"
   ]
  },
  {
   "cell_type": "code",
   "execution_count": 56,
   "id": "fc20f606",
   "metadata": {},
   "outputs": [],
   "source": [
    "# CREACIÓN DE CALIFICACIONES SINTÉTICAS - CCOMPUTACIÓN\n",
    "# Simular cursos tomados por estudiante (2021-2025)\n",
    "cursos_tomados3 = []\n",
    "indice = ultimo_id_ct3 + 1  # Comenzar desde el último ID_CT\n",
    "\n",
    "for _, est in df_estudiantes.iterrows():\n",
    "    for id_semestre, nombre_semestre in semestres_software.items():\n",
    "        # Extrae el año del nombre del semestre (ejemplo: '2021-1'[:4] -> '2021')\n",
    "        if int(str(nombre_semestre)[:4]) >= est.anio_ingreso:\n",
    "            for _ in range(random.randint(3, 7)):\n",
    "                curso = df_cursos.sample(1).iloc[0]  # elige curso al azar\n",
    "                id_curso = curso[\"id_curso\"]\n",
    "                id_ciclo = curso[\"id_ciclo\"]\n",
    "                t_aprob = curso[\"t_aprobacion\"]  # entre 0 y 1\n",
    "\n",
    "                # Simular si aprueba o no según tasa\n",
    "                aprueba = random.random() < t_aprob\n",
    "\n",
    "                # Nota entre 11-20 si aprueba, entre 0-10 si desaprueba\n",
    "                if aprueba:\n",
    "                    nota = np.clip(np.random.normal(14.5, 2), 11, 20)\n",
    "                else:\n",
    "                    nota = np.clip(np.random.normal(9, 2.5), 0, 10)\n",
    "\n",
    "                indice += 1\n",
    "                \n",
    "                cursos_tomados3.append({\n",
    "                    \"id_ct\": indice,  # Asignar ID_CT secuencial\n",
    "                    \"id_estudiante\": est.id_estudiante,\n",
    "                    \"id_curso\": id_curso,\n",
    "                    \"id_semestre\": id_semestre,  # Usar la clave del diccionario\n",
    "                    \"nota\": int(round(nota)),\n",
    "                    \"id_ciclo\": id_ciclo\n",
    "                })"
   ]
  },
  {
   "cell_type": "code",
   "execution_count": 57,
   "id": "7b2e4572",
   "metadata": {},
   "outputs": [],
   "source": [
    "# GUARDAR EN UN DATAFRAME\n",
    "df_cursos_tomados_ccomputacion = pd.DataFrame(cursos_tomados3)"
   ]
  },
  {
   "cell_type": "code",
   "execution_count": 58,
   "id": "001b6d79",
   "metadata": {},
   "outputs": [
    {
     "name": "stdout",
     "output_type": "stream",
     "text": [
      "DATASET CURSOS_TOMADOS 2021-2025:\n",
      "         id_ct  id_estudiante   id_curso  id_semestre  nota  id_ciclo\n",
      "113827  600969       18200108    2010802           40     8        20\n",
      "113828  600970       18200108    2020898           40    18        43\n",
      "113829  600971       18200108  203230301           40    16        87\n",
      "113830  600972       18200108     208010           40    12         9\n",
      "113831  600973       18200108  203230403           40    10        88\n"
     ]
    }
   ],
   "source": [
    "print(\"DATASET CURSOS_TOMADOS 2021-2025:\")\n",
    "print(df_cursos_tomados_ccomputacion.tail(5))  # Muestra los últimos 5 registros"
   ]
  },
  {
   "cell_type": "code",
   "execution_count": 59,
   "id": "913fc8fa",
   "metadata": {},
   "outputs": [],
   "source": [
    "# UNIR DATASETS DE CURSOS TOMADOS (HISTÓRICO Y NUEVO)\n",
    "df_cursos_tomados_union1 = pd.concat([df_curso_tomado, df_cursos_tomados_sistemas], ignore_index=True)\n",
    "df_cursos_tomados_union2 = pd.concat([df_cursos_tomados_union1, df_cursos_tomados_software], ignore_index=True)\n",
    "df_cursos_tomados_union3 = pd.concat([df_cursos_tomados_union2, df_cursos_tomados_ccomputacion], ignore_index=True)"
   ]
  },
  {
   "cell_type": "code",
   "execution_count": 60,
   "id": "0353dbcb",
   "metadata": {},
   "outputs": [],
   "source": [
    "# GUARDAR EL DATASET NUEVO DE CURSOS_TOMADOS (2019-2025))\n",
    "df_cursos_tomados_union3.to_csv('../fuentes_datos/datasets_finales/CSV/curso_tomado_completo.csv', index=False, sep=';')"
   ]
  },
  {
   "cell_type": "code",
   "execution_count": 61,
   "id": "405adc29",
   "metadata": {},
   "outputs": [],
   "source": [
    "# CREACIÓN DE REPETICIONES SINTÉTICAS\n",
    "# Cada estudiante puede tener repitencias si su nota fue < 11\n",
    "repitencias = df_cursos_tomados_union3[df_cursos_tomados_union3[\"nota\"] < 11]\n",
    "repitencias = repitencias.groupby([\"id_estudiante\", \"id_curso\", \"id_semestre\"]).size().reset_index(name=\"n_reprobaciones\")"
   ]
  },
  {
   "cell_type": "code",
   "execution_count": 62,
   "id": "4ab78957",
   "metadata": {},
   "outputs": [],
   "source": [
    "# GUARDAR EN UN DATAFRAME\n",
    "df_reprobaciones2 = pd.DataFrame(repitencias)"
   ]
  },
  {
   "cell_type": "code",
   "execution_count": 63,
   "id": "284e44f0",
   "metadata": {},
   "outputs": [
    {
     "name": "stdout",
     "output_type": "stream",
     "text": [
      "DATASET REPROBACIONES 2021-2025:\n",
      "      id_estudiante id_curso  id_semestre  n_reprobaciones\n",
      "88211        962909   206008            2                1\n",
      "88212        973021   206008            2                1\n",
      "88213        973021   206008            3                1\n",
      "88214        973021   206010            2                1\n",
      "88215        997985   201105            2                1\n"
     ]
    }
   ],
   "source": [
    "print(\"DATASET REPROBACIONES 2021-2025:\")\n",
    "print(df_reprobaciones2.tail(5))  # Muestra los últimos 5 registros"
   ]
  },
  {
   "cell_type": "code",
   "execution_count": 64,
   "id": "8400f927",
   "metadata": {},
   "outputs": [],
   "source": [
    "# UNIR DATASETS DE REPROBACIONES (HISTÓRICO Y NUEVO)\n",
    "df_reprobaciones3 = pd.concat([df_reprobaciones, df_reprobaciones2], ignore_index=True)"
   ]
  },
  {
   "cell_type": "code",
   "execution_count": 65,
   "id": "9da4bdb2",
   "metadata": {},
   "outputs": [],
   "source": [
    "# Sumar reprobaciones por estudiante y curso, conservando el último semestre donde reprobó\n",
    "df_reprobaciones4 = df_reprobaciones3.groupby([\"id_estudiante\", \"id_curso\"], as_index=False).agg({\n",
    "    \"n_reprobaciones\": \"sum\",\n",
    "    \"id_semestre\": \"max\"  # Último semestre con reprobación\n",
    "})"
   ]
  },
  {
   "cell_type": "code",
   "execution_count": 66,
   "id": "59b0907b",
   "metadata": {},
   "outputs": [],
   "source": [
    "# GUARDAR EL DATASET NUEVO DE REPROBACIONES (2019-2025))\n",
    "df_reprobaciones4.to_csv('../fuentes_datos/datasets_finales/CSV/reprobacion_completo.csv', index=False, sep=';')"
   ]
  },
  {
   "cell_type": "code",
   "execution_count": 67,
   "id": "0205d24e",
   "metadata": {},
   "outputs": [
    {
     "data": {
      "text/plain": [
       "['RD N°138-D-FISI-19                      ',\n",
       " 'RD 125-D-FISI-19                        ',\n",
       " 'RD125-D-FISI-19                         ',\n",
       " 'RD 125-D-FISI19                         ',\n",
       " 'RD 138-D-FISI-19                        ',\n",
       " 'RD 405-D-FISI-2019                      ',\n",
       " 'RD 164-D-FISI-19                        ',\n",
       " 'RD 174-D-FISI-19                        ',\n",
       " 'RD N°126-D-FISI-19                      ',\n",
       " 'RD 125-D-FISI-2019                      ',\n",
       " 'RD 138-D-FISI-2019                      ',\n",
       " 'RD N° 00126-D-FISI                      ',\n",
       " 'RD N°174-D-FISI-19                      ',\n",
       " 'RD N 126-D-FISI-19                      ',\n",
       " 'RD 125-D-19                             ',\n",
       " 'RD 126-D-FISI-19                        ',\n",
       " 'RD 126-D-FISI-2019                      ',\n",
       " 'RD 126-D-FISI19                         ',\n",
       " 'RD126-D-FISI-19                         ',\n",
       " 'RD 139-D-FISI-19                        ',\n",
       " 'RD 139-D-FISI-2019                      ',\n",
       " 'RD139-D-FISI-19                         ',\n",
       " 'RD 165-D-FISI-19                        ',\n",
       " 'RD 175-D-FISI-19                        ',\n",
       " 'RD 406-D-FISI-2019                      ',\n",
       " 'RD 405-D-FISI-19                        ',\n",
       " 'RD 405-FISI-2019                        ',\n",
       " 'RD  716-D-FISI-19                       ',\n",
       " 'RD 00744-D-FISI-19                      ',\n",
       " 'RD 405 D-FISI-2019                      ',\n",
       " 'RD 716-D-FISI-19                        ',\n",
       " 'RD 406 D-FISI-2019                      ',\n",
       " 'RD 00406-D-FISI                         ',\n",
       " 'RD 406-D-FISI-19                        ',\n",
       " 'RD 406-FISI-2019                        ',\n",
       " 'RD 406-D-FISI-2016                      ',\n",
       " '716-D-FISI-2019                         ',\n",
       " 'RD 107-D-FISI-2020                      ',\n",
       " 'RD 107-D-FISI2020                       ',\n",
       " 'RD 000439-2020-D                        ',\n",
       " 'RD 00439-2020-D                         ',\n",
       " 'RD 000451-2020-D                        ',\n",
       " 'RD 00439                                ',\n",
       " 'RD 000445-2020-D                        ',\n",
       " 'RD 000539-2020-D-                       ',\n",
       " nan]"
      ]
     },
     "execution_count": 67,
     "metadata": {},
     "output_type": "execute_result"
    }
   ],
   "source": [
    "# IDENTIFICACIÓN DE NUM_RES_AUTORIZA DEL DATASET DE TUTORIAS\n",
    "df_tutorias['num_res_autoriza'].unique().tolist()  # Muestra los valores únicos de la columna num_res_autoriza"
   ]
  },
  {
   "cell_type": "code",
   "execution_count": 68,
   "id": "dee66aef",
   "metadata": {},
   "outputs": [],
   "source": [
    "# QUITAR ESPACIOS EN BLANCO DE NUM_RES_AUTORIZA\n",
    "df_tutorias['num_res_autoriza'] = df_tutorias['num_res_autoriza'].str.strip()"
   ]
  },
  {
   "cell_type": "code",
   "execution_count": 69,
   "id": "43e24f4a",
   "metadata": {},
   "outputs": [
    {
     "data": {
      "text/plain": [
       "['RD N°138-D-FISI-19',\n",
       " 'RD 125-D-FISI-19',\n",
       " 'RD125-D-FISI-19',\n",
       " 'RD 125-D-FISI19',\n",
       " 'RD 138-D-FISI-19',\n",
       " 'RD 405-D-FISI-2019',\n",
       " 'RD 164-D-FISI-19',\n",
       " 'RD 174-D-FISI-19',\n",
       " 'RD N°126-D-FISI-19',\n",
       " 'RD 125-D-FISI-2019',\n",
       " 'RD 138-D-FISI-2019',\n",
       " 'RD N° 00126-D-FISI',\n",
       " 'RD N°174-D-FISI-19',\n",
       " 'RD N 126-D-FISI-19',\n",
       " 'RD 125-D-19',\n",
       " 'RD 126-D-FISI-19',\n",
       " 'RD 126-D-FISI-2019',\n",
       " 'RD 126-D-FISI19',\n",
       " 'RD126-D-FISI-19',\n",
       " 'RD 139-D-FISI-19',\n",
       " 'RD 139-D-FISI-2019',\n",
       " 'RD139-D-FISI-19',\n",
       " 'RD 165-D-FISI-19',\n",
       " 'RD 175-D-FISI-19',\n",
       " 'RD 406-D-FISI-2019',\n",
       " 'RD 405-D-FISI-19',\n",
       " 'RD 405-FISI-2019',\n",
       " 'RD  716-D-FISI-19',\n",
       " 'RD 00744-D-FISI-19',\n",
       " 'RD 405 D-FISI-2019',\n",
       " 'RD 716-D-FISI-19',\n",
       " 'RD 406 D-FISI-2019',\n",
       " 'RD 00406-D-FISI',\n",
       " 'RD 406-D-FISI-19',\n",
       " 'RD 406-FISI-2019',\n",
       " 'RD 406-D-FISI-2016',\n",
       " '716-D-FISI-2019',\n",
       " 'RD 107-D-FISI-2020',\n",
       " 'RD 107-D-FISI2020',\n",
       " 'RD 000439-2020-D',\n",
       " 'RD 00439-2020-D',\n",
       " 'RD 000451-2020-D',\n",
       " 'RD 00439',\n",
       " 'RD 000445-2020-D',\n",
       " 'RD 000539-2020-D-',\n",
       " nan]"
      ]
     },
     "execution_count": 69,
     "metadata": {},
     "output_type": "execute_result"
    }
   ],
   "source": [
    "# IDENTIFICACIÓN DE NUM_RES_AUTORIZA DEL DATASET DE TUTORIAS\n",
    "df_tutorias['num_res_autoriza'].unique().tolist()  # Muestra los valores únicos de la columna num_res_autoriza"
   ]
  },
  {
   "cell_type": "code",
   "execution_count": 70,
   "id": "4b98b78b",
   "metadata": {},
   "outputs": [],
   "source": [
    "# REEMPLAZAR VALORES DE NUM_RES_AUTORIZA\n",
    "df_tutorias['num_res_autoriza'] = df_tutorias['num_res_autoriza'].replace({\n",
    "    'RD N°138-D-FISI-19': 'RD 138-D-FISI-19',\n",
    "    'RD125-D-FISI-19': 'RD 125-D-FISI-19',\n",
    "    'RD 125-D-FISI19': 'RD 125-D-FISI-19',\n",
    "    'RD 405-D-FISI-2019': 'RD 405-D-FISI-19',\n",
    "    'RD N°126-D-FISI-19': 'RD 126-D-FISI-19',\n",
    "    'RD 125-D-FISI-2019': 'RD 125-D-FISI-19',\n",
    "    'RD 138-D-FISI-2019': 'RD 138-D-FISI-19',\n",
    "    'RD N° 00126-D-FISI': 'RD 126-D-FISI-19',\n",
    "    'RD N°174-D-FISI-19': 'RD 174-D-FISI-19',\n",
    "    'RD N 126-D-FISI-19': 'RD 126-D-FISI-19',\n",
    "    'RD 125-D-19': 'RD 125-D-FISI-19',\n",
    "    'RD 126-D-FISI-2019': 'RD 126-D-FISI-19',\n",
    "    'RD 126-D-FISI19': 'RD 126-D-FISI-19',\n",
    "    'RD126-D-FISI-19': 'RD 126-D-FISI-19',\n",
    "    'RD 139-D-FISI-2019': 'RD 139-D-FISI-19',\n",
    "    'RD139-D-FISI-19': 'RD 139-D-FISI-19',\n",
    "    'RD 406-D-FISI-2019': 'RD 406-D-FISI-19',\n",
    "    'RD 000451-2020-D': 'RD 451-D-FISI-20',\n",
    "    'RD 00439': 'RD 439-D-FISI-20',\n",
    "    'RD 000445-2020-D': 'RD 445-D-FISI-20',\n",
    "    'RD 000445-2020-D': 'RD 445-D-FISI-20'\n",
    "})\n"
   ]
  },
  {
   "cell_type": "code",
   "execution_count": 71,
   "id": "720f8727",
   "metadata": {},
   "outputs": [
    {
     "data": {
      "text/plain": [
       "['RD 138-D-FISI-19',\n",
       " 'RD 125-D-FISI-19',\n",
       " 'RD 405-D-FISI-19',\n",
       " 'RD 164-D-FISI-19',\n",
       " 'RD 174-D-FISI-19',\n",
       " 'RD 126-D-FISI-19',\n",
       " 'RD 139-D-FISI-19',\n",
       " 'RD 165-D-FISI-19',\n",
       " 'RD 175-D-FISI-19',\n",
       " 'RD 406-D-FISI-19',\n",
       " 'RD 405-FISI-2019',\n",
       " 'RD  716-D-FISI-19',\n",
       " 'RD 00744-D-FISI-19',\n",
       " 'RD 405 D-FISI-2019',\n",
       " 'RD 716-D-FISI-19',\n",
       " 'RD 406 D-FISI-2019',\n",
       " 'RD 00406-D-FISI',\n",
       " 'RD 406-FISI-2019',\n",
       " 'RD 406-D-FISI-2016',\n",
       " '716-D-FISI-2019',\n",
       " 'RD 107-D-FISI-2020',\n",
       " 'RD 107-D-FISI2020',\n",
       " 'RD 000439-2020-D',\n",
       " 'RD 00439-2020-D',\n",
       " 'RD 451-D-FISI-20',\n",
       " 'RD 439-D-FISI-20',\n",
       " 'RD 445-D-FISI-20',\n",
       " 'RD 000539-2020-D-',\n",
       " nan]"
      ]
     },
     "execution_count": 71,
     "metadata": {},
     "output_type": "execute_result"
    }
   ],
   "source": [
    "# IDENTIFICACIÓN DE NUM_RES_AUTORIZA DEL DATASET DE TUTORIAS\n",
    "df_tutorias['num_res_autoriza'].unique().tolist()  # Muestra los valores únicos de la columna num_res_autoriza"
   ]
  },
  {
   "cell_type": "code",
   "execution_count": 72,
   "id": "5e2003c8",
   "metadata": {},
   "outputs": [],
   "source": [
    "# REEMPLAZAR VALORES DE NUM_RES_AUTORIZA\n",
    "df_tutorias['num_res_autoriza'] = df_tutorias['num_res_autoriza'].replace({\n",
    "    'RD 405-FISI-2019': 'RD 405-D-FISI-19',\n",
    "    'RD  716-D-FISI-19': 'RD 716-D-FISI-19',\n",
    "    'RD 00744-D-FISI-19': 'RD 744-D-FISI-19',\n",
    "    'RD 405 D-FISI-2019': 'RD 405-D-FISI-19',\n",
    "    'RD 406 D-FISI-2019': 'RD 406-D-FISI-19',\n",
    "    'RD 00406-D-FISI': 'RD 406-D-FISI-19',\n",
    "    'RD 406-FISI-2019': 'RD 406-D-FISI-19',\n",
    "    'RD 406-D-FISI-2016': 'RD 406-D-FISI-19',\n",
    "    '716-D-FISI-2019': 'RD 716-D-FISI-19',\n",
    "    'RD 107-D-FISI-2020': 'RD 107-D-FISI-20',\n",
    "    'RD 107-D-FISI2020': 'RD 107-D-FISI-20',\n",
    "    'RD 000439-2020-D': 'RD 439-D-FISI-20',\n",
    "    'RD 00439-2020-D': 'RD 439-D-FISI-20',\n",
    "    'RD 000539-2020-D-': 'RD 539-D-FISI-20'\n",
    "})"
   ]
  },
  {
   "cell_type": "code",
   "execution_count": 73,
   "id": "4f3d366f",
   "metadata": {},
   "outputs": [
    {
     "data": {
      "text/plain": [
       "['RD 138-D-FISI-19',\n",
       " 'RD 125-D-FISI-19',\n",
       " 'RD 405-D-FISI-19',\n",
       " 'RD 164-D-FISI-19',\n",
       " 'RD 174-D-FISI-19',\n",
       " 'RD 126-D-FISI-19',\n",
       " 'RD 139-D-FISI-19',\n",
       " 'RD 165-D-FISI-19',\n",
       " 'RD 175-D-FISI-19',\n",
       " 'RD 406-D-FISI-19',\n",
       " 'RD 716-D-FISI-19',\n",
       " 'RD 744-D-FISI-19',\n",
       " 'RD 107-D-FISI-20',\n",
       " 'RD 439-D-FISI-20',\n",
       " 'RD 451-D-FISI-20',\n",
       " 'RD 445-D-FISI-20',\n",
       " 'RD 539-D-FISI-20',\n",
       " nan]"
      ]
     },
     "execution_count": 73,
     "metadata": {},
     "output_type": "execute_result"
    }
   ],
   "source": [
    "# IDENTIFICACIÓN DE NUM_RES_AUTORIZA DEL DATASET DE TUTORIAS\n",
    "df_tutorias['num_res_autoriza'].unique().tolist()  # Muestra los valores únicos de la columna num_res_autoriza"
   ]
  },
  {
   "cell_type": "code",
   "execution_count": 74,
   "id": "b8e4c899",
   "metadata": {},
   "outputs": [],
   "source": [
    "# Función auxiliar para generar un num_res_autoriza sintético pero realista\n",
    "def generar_resolucion(id_semestre):\n",
    "    anio = str(id_semestre)[:4][-2:]  # Extrae los dos últimos dígitos del año\n",
    "    numero = random.randint(100, 800)\n",
    "    return f\"RD {numero}-D-FISI-{anio}\""
   ]
  },
  {
   "cell_type": "code",
   "execution_count": 80,
   "id": "1d83b2a3",
   "metadata": {},
   "outputs": [
    {
     "name": "stdout",
     "output_type": "stream",
     "text": [
      "\n",
      "Último ID_TUTORIAS en df_tutorias: 1218.0\n"
     ]
    }
   ],
   "source": [
    "# ULTIMO ID_CT DEL DATAFRAME DE CURSOS TOMADOS\n",
    "ultimo_id_tutoria = df_tutorias['id_tutoria'].max() if not df_tutorias.empty else 0\n",
    "print(f\"\\nÚltimo ID_TUTORIAS en df_tutorias: {ultimo_id_tutoria}\")"
   ]
  },
  {
   "cell_type": "code",
   "execution_count": 81,
   "id": "22a5f8b3",
   "metadata": {},
   "outputs": [],
   "source": [
    "# CREACIÓN DE TUTORÍAS SINTÉTICAS\n",
    "tutorias = []\n",
    "indice = ultimo_id_tutoria + 1  # Comenzar desde el último ID_TUTORIA\n",
    "\n",
    "for _, row in df_reprobaciones4.iterrows():\n",
    "    indice += 1  # Incrementar el índice para cada tutoría nueva\n",
    "    if random.random() < 0.7:  # 70% probabilidad de tener tutoría\n",
    "        tutorias.append({\n",
    "            \"id_tutoria\": indice,  # Asignar ID_TUTORIA secuencial\n",
    "            \"id_estudiante\": row.id_estudiante,\n",
    "            \"id_semestre\": row.id_semestre,\n",
    "            \"tipo_autorizacion\": random.choice(['AM', 'TO']),\n",
    "            \"num_res_autoriza\": generar_resolucion(row.id_semestre)\n",
    "        })"
   ]
  },
  {
   "cell_type": "code",
   "execution_count": 82,
   "id": "3022283e",
   "metadata": {},
   "outputs": [],
   "source": [
    "# GUARDAR EN UN DATAFRAME\n",
    "df_tutorias2 = pd.DataFrame(tutorias)"
   ]
  },
  {
   "cell_type": "code",
   "execution_count": 83,
   "id": "1bd81696",
   "metadata": {},
   "outputs": [
    {
     "name": "stdout",
     "output_type": "stream",
     "text": [
      "DATASET TUTORIAS 2021-2025:\n",
      "       id_tutoria id_estudiante  id_semestre tipo_autorizacion  \\\n",
      "61218     88511.0        962909            3                AM   \n",
      "61219     88512.0        962909            3                AM   \n",
      "61220     88513.0        962909            2                TO   \n",
      "61221     88514.0        973021            3                TO   \n",
      "61222     88516.0        997985            2                AM   \n",
      "\n",
      "      num_res_autoriza  \n",
      "61218  RD 502-D-FISI-3  \n",
      "61219  RD 316-D-FISI-3  \n",
      "61220  RD 257-D-FISI-2  \n",
      "61221  RD 496-D-FISI-3  \n",
      "61222  RD 449-D-FISI-2  \n"
     ]
    }
   ],
   "source": [
    "print(\"DATASET TUTORIAS 2021-2025:\")\n",
    "print(df_tutorias2.tail(5))  # Muestra los últimos 5 registros"
   ]
  },
  {
   "cell_type": "code",
   "execution_count": 84,
   "id": "f236a12c",
   "metadata": {},
   "outputs": [],
   "source": [
    "# UNIR DATASETS DE TUTORIAS (HISTÓRICO Y NUEVO)\n",
    "df_tutorias3 = pd.concat([df_tutorias, df_tutorias2], ignore_index=True)"
   ]
  },
  {
   "cell_type": "code",
   "execution_count": 86,
   "id": "ac543767",
   "metadata": {},
   "outputs": [],
   "source": [
    "# ELIMINAR FILAS VACÍAS\n",
    "df_tutorias4 = df_tutorias3.dropna(subset=['id_tutoria','id_estudiante', 'id_semestre', 'tipo_autorizacion', 'num_res_autoriza'])"
   ]
  },
  {
   "cell_type": "code",
   "execution_count": 87,
   "id": "0748aecb",
   "metadata": {},
   "outputs": [],
   "source": [
    "# GUARDAR EL DATASET NUEVO DE TUTORIAS (2019-2025))\n",
    "df_tutorias4.to_csv('../fuentes_datos/datasets_finales/CSV/tutorias_completo.csv', index=False, sep=';')"
   ]
  }
 ],
 "metadata": {
  "kernelspec": {
   "display_name": ".venv",
   "language": "python",
   "name": "python3"
  },
  "language_info": {
   "codemirror_mode": {
    "name": "ipython",
    "version": 3
   },
   "file_extension": ".py",
   "mimetype": "text/x-python",
   "name": "python",
   "nbconvert_exporter": "python",
   "pygments_lexer": "ipython3",
   "version": "3.12.5"
  }
 },
 "nbformat": 4,
 "nbformat_minor": 5
}
