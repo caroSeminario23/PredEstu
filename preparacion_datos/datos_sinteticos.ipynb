{
 "cells": [
  {
   "cell_type": "markdown",
   "id": "b80f916e",
   "metadata": {},
   "source": [
    "# CREACIÓN DE DATOS SINTÉTICOS"
   ]
  },
  {
   "cell_type": "code",
   "execution_count": 1,
   "id": "b86a180b",
   "metadata": {},
   "outputs": [
    {
     "name": "stdout",
     "output_type": "stream",
     "text": [
      "Requirement already satisfied: pandas in c:\\users\\carolina\\documents\\proyectos_programacion\\predestu\\.venv\\lib\\site-packages (2.3.1)\n",
      "Requirement already satisfied: numpy>=1.26.0 in c:\\users\\carolina\\documents\\proyectos_programacion\\predestu\\.venv\\lib\\site-packages (from pandas) (2.3.1)\n",
      "Requirement already satisfied: python-dateutil>=2.8.2 in c:\\users\\carolina\\documents\\proyectos_programacion\\predestu\\.venv\\lib\\site-packages (from pandas) (2.9.0.post0)\n",
      "Requirement already satisfied: pytz>=2020.1 in c:\\users\\carolina\\documents\\proyectos_programacion\\predestu\\.venv\\lib\\site-packages (from pandas) (2025.2)\n",
      "Requirement already satisfied: tzdata>=2022.7 in c:\\users\\carolina\\documents\\proyectos_programacion\\predestu\\.venv\\lib\\site-packages (from pandas) (2025.2)\n",
      "Requirement already satisfied: six>=1.5 in c:\\users\\carolina\\documents\\proyectos_programacion\\predestu\\.venv\\lib\\site-packages (from python-dateutil>=2.8.2->pandas) (1.17.0)\n",
      "Note: you may need to restart the kernel to use updated packages.\n",
      "Requirement already satisfied: numpy in c:\\users\\carolina\\documents\\proyectos_programacion\\predestu\\.venv\\lib\\site-packages (2.3.1)\n",
      "Note: you may need to restart the kernel to use updated packages.\n"
     ]
    }
   ],
   "source": [
    "# INSTALACIÓN DE LIBRERÍAS\n",
    "%pip install pandas\n",
    "%pip install numpy"
   ]
  },
  {
   "cell_type": "code",
   "execution_count": 2,
   "id": "c6f0e6be",
   "metadata": {},
   "outputs": [],
   "source": [
    "# IMPORTACIÓN DE LIBRERÍAS\n",
    "import pandas as pd\n",
    "import numpy as np\n",
    "import random"
   ]
  },
  {
   "cell_type": "code",
   "execution_count": 3,
   "id": "e8920469",
   "metadata": {},
   "outputs": [],
   "source": [
    "# CONFIGURACIÓN INICIAL\n",
    "np.random.seed(42)\n",
    "random.seed(42)"
   ]
  },
  {
   "cell_type": "code",
   "execution_count": 13,
   "id": "251a6f4b",
   "metadata": {},
   "outputs": [],
   "source": [
    "# CARGAR DATASETS\n",
    "df_escuelas = pd.read_csv('../fuentes_datos/datasets_finales/CSV/escuela.csv', delimiter=';')\n",
    "df_semestres = pd.read_csv('../fuentes_datos/datasets_finales/CSV/semestre.csv', delimiter=';')\n",
    "df_planes = pd.read_csv('../fuentes_datos/datasets_finales/CSV/plan.csv', delimiter=';')\n",
    "df_estudiantes = pd.read_csv('../fuentes_datos/datasets_finales/CSV/estudiante.csv', delimiter=';')\n",
    "df_cursos = pd.read_csv('../fuentes_datos/datasets_finales/CSV/curso.csv', delimiter=';')"
   ]
  },
  {
   "cell_type": "code",
   "execution_count": 17,
   "id": "2941bea5",
   "metadata": {},
   "outputs": [],
   "source": [
    "# PARAMETROS BASE\n",
    "escuelas = df_escuelas.set_index('id_escuela')['nombre'].to_dict()\n",
    "planes = df_planes.set_index('id_escuela')['anio_inicio'].to_dict()\n",
    "semestres = df_semestres['nombre'].astype(str).tolist()"
   ]
  },
  {
   "cell_type": "code",
   "execution_count": 18,
   "id": "2a3a36c4",
   "metadata": {},
   "outputs": [
    {
     "name": "stdout",
     "output_type": "stream",
     "text": [
      "DICCIONARIO ESCUELAS:\n",
      "{1: 'Ingeniería de Sistemas', 2: 'Ingeniería de Software', 3: 'Ciencias de la Computación'}\n",
      "\n",
      "DICCIONARIO PLANES:\n",
      "{1: 2024, 2: 2024, 3: 2024}\n",
      "\n",
      "LISTA SEMESTRES:\n",
      "['20190', '20191', '20192', '20200', '20201', '20202', '20210', '20211', '20212', '20220', '20221', '20222', '20230', '20231', '20232', '20240', '20241', '20242', '20250', '20251', '20190', '20191', '20192', '20200', '20201', '20202', '20210', '20211', '20212', '20220', '20221', '20222', '20230', '20231', '20232', '20240', '20241', '20242', '20250', '20251', '20241', '20242', '20250', '20251']\n"
     ]
    }
   ],
   "source": [
    "print(\"DICCIONARIO ESCUELAS:\")\n",
    "print(escuelas)\n",
    "print(\"\\nDICCIONARIO PLANES:\")\n",
    "print(planes)\n",
    "print(\"\\nLISTA SEMESTRES:\")\n",
    "print(semestres)"
   ]
  },
  {
   "cell_type": "code",
   "execution_count": 19,
   "id": "2b46d005",
   "metadata": {},
   "outputs": [],
   "source": [
    "# CREACIÓN DE CALIFICACIONES SINTÉTICAS\n",
    "# Simular cursos tomados por estudiante (2021-2025)\n",
    "cursos_tomados = []\n",
    "\n",
    "for _, est in df_estudiantes.iterrows():\n",
    "    for sem in semestres:\n",
    "        if int(sem[:4]) >= est.anio_ingreso:\n",
    "            for _ in range(random.randint(3, 7)):\n",
    "                curso = df_cursos.sample(1).iloc[0]  # elige curso al azar\n",
    "                id_curso = curso[\"id_curso\"]\n",
    "                id_ciclo = curso[\"id_ciclo\"]\n",
    "                t_aprob = curso[\"t_aprobacion\"]  # entre 0 y 1\n",
    "\n",
    "                # Simular si aprueba o no según tasa\n",
    "                aprueba = random.random() < t_aprob\n",
    "\n",
    "                # Nota entre 11-20 si aprueba, entre 0-10 si desaprueba\n",
    "                if aprueba:\n",
    "                    nota = np.clip(np.random.normal(14.5, 2), 11, 20)\n",
    "                else:\n",
    "                    nota = np.clip(np.random.normal(9, 2.5), 0, 10)\n",
    "\n",
    "                id_semestre = int(sem)\n",
    "                cursos_tomados.append({\n",
    "                    \"id_estudiante\": est.id_estudiante,\n",
    "                    \"id_curso\": id_curso,\n",
    "                    \"id_semestre\": id_semestre,\n",
    "                    \"nota\": int(round(nota)),\n",
    "                    \"id_ciclo\": id_ciclo\n",
    "                })\n"
   ]
  },
  {
   "cell_type": "code",
   "execution_count": 23,
   "id": "84c7cb66",
   "metadata": {},
   "outputs": [],
   "source": [
    "# GUARDAR EN UN DATAFRAME\n",
    "df_cursos_tomados2 = pd.DataFrame(cursos_tomados)"
   ]
  },
  {
   "cell_type": "code",
   "execution_count": 26,
   "id": "aada39c1",
   "metadata": {},
   "outputs": [
    {
     "name": "stdout",
     "output_type": "stream",
     "text": [
      "DATASET CURSOS_TOMADOS 2021-2025:\n",
      "        id_estudiante id_curso  id_semestre  nota  id_ciclo\n",
      "357518       18200108  2010103        20250    14        13\n",
      "357519       18200108  2020501        20251     8        48\n",
      "357520       18200108  2010205        20251     9        14\n",
      "357521       18200108   201003        20251    18         2\n",
      "357522       18200108  2010501        20251    12        17\n"
     ]
    }
   ],
   "source": [
    "print(\"DATASET CURSOS_TOMADOS 2021-2025:\")\n",
    "print(df_cursos_tomados2.tail(5))  # Muestra los últimos 5 registros"
   ]
  },
  {
   "cell_type": "code",
   "execution_count": 27,
   "id": "8192748b",
   "metadata": {},
   "outputs": [],
   "source": [
    "# IDENTIFICAR CURSOS_TOMADOS CON ID_CICLO 9\n",
    "df_cursos_tomados_escuela3 = df_cursos_tomados2[df_cursos_tomados2['id_ciclo'] == 9]"
   ]
  },
  {
   "cell_type": "code",
   "execution_count": 29,
   "id": "2866256a",
   "metadata": {},
   "outputs": [
    {
     "name": "stdout",
     "output_type": "stream",
     "text": [
      "N REGISTROS DEL DATASET CURSOS_TOMADOS CON CICLO 9:\n",
      "3601\n",
      "\n",
      "DATASET CURSOS_TOMADOS CON CICLO 9:\n",
      "     id_estudiante id_curso  id_semestre  nota  id_ciclo\n",
      "66        20200111   208007        20232    14         9\n",
      "108       20200111   208003        20192    18         9\n",
      "208       20200111   208003        20251    13         9\n",
      "469       22200067   208008        20221    14         9\n",
      "516       22200067   208001        20250    17         9\n"
     ]
    }
   ],
   "source": [
    "print(\"N REGISTROS DEL DATASET CURSOS_TOMADOS CON CICLO 9:\")\n",
    "print(len(df_cursos_tomados_escuela3))\n",
    "print(\"\\nDATASET CURSOS_TOMADOS CON CICLO 9:\")\n",
    "print(df_cursos_tomados_escuela3.head())  # Muestra los primeros 5 registros"
   ]
  },
  {
   "cell_type": "code",
   "execution_count": 30,
   "id": "0353dbcb",
   "metadata": {},
   "outputs": [],
   "source": [
    "# GUARDAR EL DATASET NUEVO DE CURSOS_TOMADOS (2019-2025))\n",
    "df_cursos_tomados2.to_csv('../fuentes_datos/datasets_finales/CSV/curso_tomado_completo.csv', index=False, sep=';')"
   ]
  }
 ],
 "metadata": {
  "kernelspec": {
   "display_name": ".venv",
   "language": "python",
   "name": "python3"
  },
  "language_info": {
   "codemirror_mode": {
    "name": "ipython",
    "version": 3
   },
   "file_extension": ".py",
   "mimetype": "text/x-python",
   "name": "python",
   "nbconvert_exporter": "python",
   "pygments_lexer": "ipython3",
   "version": "3.12.5"
  }
 },
 "nbformat": 4,
 "nbformat_minor": 5
}
