{
 "cells": [
  {
   "cell_type": "markdown",
   "id": "b80f916e",
   "metadata": {},
   "source": [
    "# CREACIÓN DE DATOS SINTÉTICOS"
   ]
  },
  {
   "cell_type": "code",
   "execution_count": 1,
   "id": "b86a180b",
   "metadata": {},
   "outputs": [
    {
     "name": "stdout",
     "output_type": "stream",
     "text": [
      "Requirement already satisfied: pandas in c:\\users\\carolina\\documents\\proyectos_programacion\\predestu\\.venv\\lib\\site-packages (2.3.1)\n",
      "Requirement already satisfied: numpy>=1.26.0 in c:\\users\\carolina\\documents\\proyectos_programacion\\predestu\\.venv\\lib\\site-packages (from pandas) (2.3.1)\n",
      "Requirement already satisfied: python-dateutil>=2.8.2 in c:\\users\\carolina\\documents\\proyectos_programacion\\predestu\\.venv\\lib\\site-packages (from pandas) (2.9.0.post0)\n",
      "Requirement already satisfied: pytz>=2020.1 in c:\\users\\carolina\\documents\\proyectos_programacion\\predestu\\.venv\\lib\\site-packages (from pandas) (2025.2)\n",
      "Requirement already satisfied: tzdata>=2022.7 in c:\\users\\carolina\\documents\\proyectos_programacion\\predestu\\.venv\\lib\\site-packages (from pandas) (2025.2)\n",
      "Requirement already satisfied: six>=1.5 in c:\\users\\carolina\\documents\\proyectos_programacion\\predestu\\.venv\\lib\\site-packages (from python-dateutil>=2.8.2->pandas) (1.17.0)\n",
      "Note: you may need to restart the kernel to use updated packages.\n",
      "Requirement already satisfied: numpy in c:\\users\\carolina\\documents\\proyectos_programacion\\predestu\\.venv\\lib\\site-packages (2.3.1)\n",
      "Note: you may need to restart the kernel to use updated packages.\n"
     ]
    }
   ],
   "source": [
    "# INSTALACIÓN DE LIBRERÍAS\n",
    "%pip install pandas\n",
    "%pip install numpy"
   ]
  },
  {
   "cell_type": "code",
   "execution_count": 2,
   "id": "c6f0e6be",
   "metadata": {},
   "outputs": [],
   "source": [
    "# IMPORTACIÓN DE LIBRERÍAS\n",
    "import pandas as pd\n",
    "import numpy as np\n",
    "import random"
   ]
  },
  {
   "cell_type": "code",
   "execution_count": 3,
   "id": "e8920469",
   "metadata": {},
   "outputs": [],
   "source": [
    "# CONFIGURACIÓN INICIAL\n",
    "np.random.seed(42)\n",
    "random.seed(42)"
   ]
  },
  {
   "cell_type": "code",
   "execution_count": 41,
   "id": "251a6f4b",
   "metadata": {},
   "outputs": [],
   "source": [
    "# CARGAR DATASETS\n",
    "df_escuelas = pd.read_csv('../fuentes_datos/datasets_finales/CSV/escuela.csv', delimiter=';')\n",
    "df_semestres = pd.read_csv('../fuentes_datos/datasets_finales/CSV/semestre.csv', delimiter=';')\n",
    "df_planes = pd.read_csv('../fuentes_datos/datasets_finales/CSV/plan.csv', delimiter=';')\n",
    "df_estudiantes = pd.read_csv('../fuentes_datos/datasets_finales/CSV/estudiante.csv', delimiter=';')\n",
    "df_cursos = pd.read_csv('../fuentes_datos/datasets_finales/CSV/curso.csv', delimiter=';')\n",
    "df_reprobaciones = pd.read_csv('../fuentes_datos/datasets_finales/CSV/reprobacion.csv', delimiter=';')\n",
    "df_tutorias = pd.read_csv('../fuentes_datos/datasets_finales/CSV/tutoria.csv', delimiter=';')"
   ]
  },
  {
   "cell_type": "code",
   "execution_count": 17,
   "id": "2941bea5",
   "metadata": {},
   "outputs": [],
   "source": [
    "# PARAMETROS BASE\n",
    "escuelas = df_escuelas.set_index('id_escuela')['nombre'].to_dict()\n",
    "planes = df_planes.set_index('id_escuela')['anio_inicio'].to_dict()\n",
    "semestres = df_semestres['nombre'].astype(str).tolist()"
   ]
  },
  {
   "cell_type": "code",
   "execution_count": 18,
   "id": "2a3a36c4",
   "metadata": {},
   "outputs": [
    {
     "name": "stdout",
     "output_type": "stream",
     "text": [
      "DICCIONARIO ESCUELAS:\n",
      "{1: 'Ingeniería de Sistemas', 2: 'Ingeniería de Software', 3: 'Ciencias de la Computación'}\n",
      "\n",
      "DICCIONARIO PLANES:\n",
      "{1: 2024, 2: 2024, 3: 2024}\n",
      "\n",
      "LISTA SEMESTRES:\n",
      "['20190', '20191', '20192', '20200', '20201', '20202', '20210', '20211', '20212', '20220', '20221', '20222', '20230', '20231', '20232', '20240', '20241', '20242', '20250', '20251', '20190', '20191', '20192', '20200', '20201', '20202', '20210', '20211', '20212', '20220', '20221', '20222', '20230', '20231', '20232', '20240', '20241', '20242', '20250', '20251', '20241', '20242', '20250', '20251']\n"
     ]
    }
   ],
   "source": [
    "print(\"DICCIONARIO ESCUELAS:\")\n",
    "print(escuelas)\n",
    "print(\"\\nDICCIONARIO PLANES:\")\n",
    "print(planes)\n",
    "print(\"\\nLISTA SEMESTRES:\")\n",
    "print(semestres)"
   ]
  },
  {
   "cell_type": "code",
   "execution_count": 19,
   "id": "2b46d005",
   "metadata": {},
   "outputs": [],
   "source": [
    "# CREACIÓN DE CALIFICACIONES SINTÉTICAS\n",
    "# Simular cursos tomados por estudiante (2021-2025)\n",
    "cursos_tomados = []\n",
    "\n",
    "for _, est in df_estudiantes.iterrows():\n",
    "    for sem in semestres:\n",
    "        if int(sem[:4]) >= est.anio_ingreso:\n",
    "            for _ in range(random.randint(3, 7)):\n",
    "                curso = df_cursos.sample(1).iloc[0]  # elige curso al azar\n",
    "                id_curso = curso[\"id_curso\"]\n",
    "                id_ciclo = curso[\"id_ciclo\"]\n",
    "                t_aprob = curso[\"t_aprobacion\"]  # entre 0 y 1\n",
    "\n",
    "                # Simular si aprueba o no según tasa\n",
    "                aprueba = random.random() < t_aprob\n",
    "\n",
    "                # Nota entre 11-20 si aprueba, entre 0-10 si desaprueba\n",
    "                if aprueba:\n",
    "                    nota = np.clip(np.random.normal(14.5, 2), 11, 20)\n",
    "                else:\n",
    "                    nota = np.clip(np.random.normal(9, 2.5), 0, 10)\n",
    "\n",
    "                id_semestre = int(sem)\n",
    "                cursos_tomados.append({\n",
    "                    \"id_estudiante\": est.id_estudiante,\n",
    "                    \"id_curso\": id_curso,\n",
    "                    \"id_semestre\": id_semestre,\n",
    "                    \"nota\": int(round(nota)),\n",
    "                    \"id_ciclo\": id_ciclo\n",
    "                })\n"
   ]
  },
  {
   "cell_type": "code",
   "execution_count": 23,
   "id": "84c7cb66",
   "metadata": {},
   "outputs": [],
   "source": [
    "# GUARDAR EN UN DATAFRAME\n",
    "df_cursos_tomados2 = pd.DataFrame(cursos_tomados)"
   ]
  },
  {
   "cell_type": "code",
   "execution_count": 26,
   "id": "aada39c1",
   "metadata": {},
   "outputs": [
    {
     "name": "stdout",
     "output_type": "stream",
     "text": [
      "DATASET CURSOS_TOMADOS 2021-2025:\n",
      "        id_estudiante id_curso  id_semestre  nota  id_ciclo\n",
      "357518       18200108  2010103        20250    14        13\n",
      "357519       18200108  2020501        20251     8        48\n",
      "357520       18200108  2010205        20251     9        14\n",
      "357521       18200108   201003        20251    18         2\n",
      "357522       18200108  2010501        20251    12        17\n"
     ]
    }
   ],
   "source": [
    "print(\"DATASET CURSOS_TOMADOS 2021-2025:\")\n",
    "print(df_cursos_tomados2.tail(5))  # Muestra los últimos 5 registros"
   ]
  },
  {
   "cell_type": "code",
   "execution_count": 27,
   "id": "8192748b",
   "metadata": {},
   "outputs": [],
   "source": [
    "# IDENTIFICAR CURSOS_TOMADOS CON ID_CICLO 9\n",
    "df_cursos_tomados_escuela3 = df_cursos_tomados2[df_cursos_tomados2['id_ciclo'] == 9]"
   ]
  },
  {
   "cell_type": "code",
   "execution_count": 29,
   "id": "2866256a",
   "metadata": {},
   "outputs": [
    {
     "name": "stdout",
     "output_type": "stream",
     "text": [
      "N REGISTROS DEL DATASET CURSOS_TOMADOS CON CICLO 9:\n",
      "3601\n",
      "\n",
      "DATASET CURSOS_TOMADOS CON CICLO 9:\n",
      "     id_estudiante id_curso  id_semestre  nota  id_ciclo\n",
      "66        20200111   208007        20232    14         9\n",
      "108       20200111   208003        20192    18         9\n",
      "208       20200111   208003        20251    13         9\n",
      "469       22200067   208008        20221    14         9\n",
      "516       22200067   208001        20250    17         9\n"
     ]
    }
   ],
   "source": [
    "print(\"N REGISTROS DEL DATASET CURSOS_TOMADOS CON CICLO 9:\")\n",
    "print(len(df_cursos_tomados_escuela3))\n",
    "print(\"\\nDATASET CURSOS_TOMADOS CON CICLO 9:\")\n",
    "print(df_cursos_tomados_escuela3.head())  # Muestra los primeros 5 registros"
   ]
  },
  {
   "cell_type": "code",
   "execution_count": 30,
   "id": "0353dbcb",
   "metadata": {},
   "outputs": [],
   "source": [
    "# GUARDAR EL DATASET NUEVO DE CURSOS_TOMADOS (2019-2025))\n",
    "df_cursos_tomados2.to_csv('../fuentes_datos/datasets_finales/CSV/curso_tomado_completo.csv', index=False, sep=';')"
   ]
  },
  {
   "cell_type": "code",
   "execution_count": 31,
   "id": "405adc29",
   "metadata": {},
   "outputs": [],
   "source": [
    "# CREACIÓN DE REPETICIONES SINTÉTICAS\n",
    "# Cada estudiante puede tener repitencias si su nota fue < 11\n",
    "repitencias = df_cursos_tomados2[df_cursos_tomados2[\"nota\"] < 11]\n",
    "repitencias = repitencias.groupby([\"id_estudiante\", \"id_curso\", \"id_semestre\"]).size().reset_index(name=\"n_reprobaciones\")"
   ]
  },
  {
   "cell_type": "code",
   "execution_count": 32,
   "id": "4ab78957",
   "metadata": {},
   "outputs": [],
   "source": [
    "# GUARDAR EN UN DATAFRAME\n",
    "df_reprobaciones2 = pd.DataFrame(repitencias)"
   ]
  },
  {
   "cell_type": "code",
   "execution_count": 33,
   "id": "284e44f0",
   "metadata": {},
   "outputs": [
    {
     "name": "stdout",
     "output_type": "stream",
     "text": [
      "DATASET REPROBACIONES 2021-2025:\n",
      "       id_estudiante id_curso  id_semestre  n_reprobaciones\n",
      "92509       25200216  20W0702        20202                1\n",
      "92510       25200216  20W0905        20202                1\n",
      "92511       25200216  20W0905        20222                1\n",
      "92512       25200216  20W1003        20241                1\n",
      "92513       25200216   INO106        20190                1\n"
     ]
    }
   ],
   "source": [
    "print(\"DATASET REPROBACIONES 2021-2025:\")\n",
    "print(df_reprobaciones2.tail(5))  # Muestra los últimos 5 registros"
   ]
  },
  {
   "cell_type": "code",
   "execution_count": 36,
   "id": "8400f927",
   "metadata": {},
   "outputs": [],
   "source": [
    "# UNIR DATASETS DE REPROBACIONES (HISTÓRICO Y NUEVO)\n",
    "df_reprobaciones3 = pd.concat([df_reprobaciones, df_reprobaciones2], ignore_index=True)"
   ]
  },
  {
   "cell_type": "code",
   "execution_count": 38,
   "id": "9da4bdb2",
   "metadata": {},
   "outputs": [],
   "source": [
    "# Sumar reprobaciones por estudiante y curso, conservando el último semestre donde reprobó\n",
    "df_reprobaciones4 = df_reprobaciones3.groupby([\"id_estudiante\", \"id_curso\"], as_index=False).agg({\n",
    "    \"n_reprobaciones\": \"sum\",\n",
    "    \"id_semestre\": \"max\"  # Último semestre con reprobación\n",
    "})"
   ]
  },
  {
   "cell_type": "code",
   "execution_count": 40,
   "id": "59b0907b",
   "metadata": {},
   "outputs": [],
   "source": [
    "# GUARDAR EL DATASET NUEVO DE REPROBACIONES (2019-2025))\n",
    "df_reprobaciones4.to_csv('../fuentes_datos/datasets_finales/CSV/reprobacion_completo.csv', index=False, sep=';')"
   ]
  },
  {
   "cell_type": "code",
   "execution_count": 42,
   "id": "0205d24e",
   "metadata": {},
   "outputs": [
    {
     "data": {
      "text/plain": [
       "['RD N°138-D-FISI-19                      ',\n",
       " 'RD 125-D-FISI-19                        ',\n",
       " 'RD125-D-FISI-19                         ',\n",
       " 'RD 125-D-FISI19                         ',\n",
       " 'RD 138-D-FISI-19                        ',\n",
       " 'RD 405-D-FISI-2019                      ',\n",
       " 'RD 164-D-FISI-19                        ',\n",
       " 'RD 174-D-FISI-19                        ',\n",
       " 'RD N°126-D-FISI-19                      ',\n",
       " 'RD 125-D-FISI-2019                      ',\n",
       " 'RD 138-D-FISI-2019                      ',\n",
       " 'RD N° 00126-D-FISI                      ',\n",
       " 'RD N°174-D-FISI-19                      ',\n",
       " 'RD N 126-D-FISI-19                      ',\n",
       " 'RD 125-D-19                             ',\n",
       " 'RD 126-D-FISI-19                        ',\n",
       " 'RD 126-D-FISI-2019                      ',\n",
       " 'RD 126-D-FISI19                         ',\n",
       " 'RD126-D-FISI-19                         ',\n",
       " 'RD 139-D-FISI-19                        ',\n",
       " 'RD 139-D-FISI-2019                      ',\n",
       " 'RD139-D-FISI-19                         ',\n",
       " 'RD 165-D-FISI-19                        ',\n",
       " 'RD 175-D-FISI-19                        ',\n",
       " 'RD 406-D-FISI-2019                      ',\n",
       " 'RD 405-D-FISI-19                        ',\n",
       " 'RD 405-FISI-2019                        ',\n",
       " 'RD  716-D-FISI-19                       ',\n",
       " 'RD 00744-D-FISI-19                      ',\n",
       " 'RD 405 D-FISI-2019                      ',\n",
       " 'RD 716-D-FISI-19                        ',\n",
       " 'RD 406 D-FISI-2019                      ',\n",
       " 'RD 00406-D-FISI                         ',\n",
       " 'RD 406-D-FISI-19                        ',\n",
       " 'RD 406-FISI-2019                        ',\n",
       " 'RD 406-D-FISI-2016                      ',\n",
       " '716-D-FISI-2019                         ',\n",
       " 'RD 107-D-FISI-2020                      ',\n",
       " 'RD 107-D-FISI2020                       ',\n",
       " 'RD 000439-2020-D                        ',\n",
       " 'RD 00439-2020-D                         ',\n",
       " 'RD 000451-2020-D                        ',\n",
       " 'RD 00439                                ',\n",
       " 'RD 000445-2020-D                        ',\n",
       " 'RD 000539-2020-D-                       ',\n",
       " nan]"
      ]
     },
     "execution_count": 42,
     "metadata": {},
     "output_type": "execute_result"
    }
   ],
   "source": [
    "# IDENTIFICACIÓN DE NUM_RES_AUTORIZA DEL DATASET DE TUTORIAS\n",
    "df_tutorias['num_res_autoriza'].unique().tolist()  # Muestra los valores únicos de la columna num_res_autoriza"
   ]
  },
  {
   "cell_type": "code",
   "execution_count": 43,
   "id": "dee66aef",
   "metadata": {},
   "outputs": [],
   "source": [
    "# QUITAR ESPACIOS EN BLANCO DE NUM_RES_AUTORIZA\n",
    "df_tutorias['num_res_autoriza'] = df_tutorias['num_res_autoriza'].str.strip()"
   ]
  },
  {
   "cell_type": "code",
   "execution_count": 44,
   "id": "43e24f4a",
   "metadata": {},
   "outputs": [
    {
     "data": {
      "text/plain": [
       "['RD N°138-D-FISI-19',\n",
       " 'RD 125-D-FISI-19',\n",
       " 'RD125-D-FISI-19',\n",
       " 'RD 125-D-FISI19',\n",
       " 'RD 138-D-FISI-19',\n",
       " 'RD 405-D-FISI-2019',\n",
       " 'RD 164-D-FISI-19',\n",
       " 'RD 174-D-FISI-19',\n",
       " 'RD N°126-D-FISI-19',\n",
       " 'RD 125-D-FISI-2019',\n",
       " 'RD 138-D-FISI-2019',\n",
       " 'RD N° 00126-D-FISI',\n",
       " 'RD N°174-D-FISI-19',\n",
       " 'RD N 126-D-FISI-19',\n",
       " 'RD 125-D-19',\n",
       " 'RD 126-D-FISI-19',\n",
       " 'RD 126-D-FISI-2019',\n",
       " 'RD 126-D-FISI19',\n",
       " 'RD126-D-FISI-19',\n",
       " 'RD 139-D-FISI-19',\n",
       " 'RD 139-D-FISI-2019',\n",
       " 'RD139-D-FISI-19',\n",
       " 'RD 165-D-FISI-19',\n",
       " 'RD 175-D-FISI-19',\n",
       " 'RD 406-D-FISI-2019',\n",
       " 'RD 405-D-FISI-19',\n",
       " 'RD 405-FISI-2019',\n",
       " 'RD  716-D-FISI-19',\n",
       " 'RD 00744-D-FISI-19',\n",
       " 'RD 405 D-FISI-2019',\n",
       " 'RD 716-D-FISI-19',\n",
       " 'RD 406 D-FISI-2019',\n",
       " 'RD 00406-D-FISI',\n",
       " 'RD 406-D-FISI-19',\n",
       " 'RD 406-FISI-2019',\n",
       " 'RD 406-D-FISI-2016',\n",
       " '716-D-FISI-2019',\n",
       " 'RD 107-D-FISI-2020',\n",
       " 'RD 107-D-FISI2020',\n",
       " 'RD 000439-2020-D',\n",
       " 'RD 00439-2020-D',\n",
       " 'RD 000451-2020-D',\n",
       " 'RD 00439',\n",
       " 'RD 000445-2020-D',\n",
       " 'RD 000539-2020-D-',\n",
       " nan]"
      ]
     },
     "execution_count": 44,
     "metadata": {},
     "output_type": "execute_result"
    }
   ],
   "source": [
    "# IDENTIFICACIÓN DE NUM_RES_AUTORIZA DEL DATASET DE TUTORIAS\n",
    "df_tutorias['num_res_autoriza'].unique().tolist()  # Muestra los valores únicos de la columna num_res_autoriza"
   ]
  },
  {
   "cell_type": "code",
   "execution_count": 45,
   "id": "4b98b78b",
   "metadata": {},
   "outputs": [],
   "source": [
    "# REEMPLAZAR VALORES DE NUM_RES_AUTORIZA\n",
    "df_tutorias['num_res_autoriza'] = df_tutorias['num_res_autoriza'].replace({\n",
    "    'RD N°138-D-FISI-19': 'RD 138-D-FISI-19',\n",
    "    'RD125-D-FISI-19': 'RD 125-D-FISI-19',\n",
    "    'RD 125-D-FISI19': 'RD 125-D-FISI-19',\n",
    "    'RD 405-D-FISI-2019': 'RD 405-D-FISI-19',\n",
    "    'RD N°126-D-FISI-19': 'RD 126-D-FISI-19',\n",
    "    'RD 125-D-FISI-2019': 'RD 125-D-FISI-19',\n",
    "    'RD 138-D-FISI-2019': 'RD 138-D-FISI-19',\n",
    "    'RD N° 00126-D-FISI': 'RD 126-D-FISI-19',\n",
    "    'RD N°174-D-FISI-19': 'RD 174-D-FISI-19',\n",
    "    'RD N 126-D-FISI-19': 'RD 126-D-FISI-19',\n",
    "    'RD 125-D-19': 'RD 125-D-FISI-19',\n",
    "    'RD 126-D-FISI-2019': 'RD 126-D-FISI-19',\n",
    "    'RD 126-D-FISI19': 'RD 126-D-FISI-19',\n",
    "    'RD126-D-FISI-19': 'RD 126-D-FISI-19',\n",
    "    'RD 139-D-FISI-2019': 'RD 139-D-FISI-19',\n",
    "    'RD139-D-FISI-19': 'RD 139-D-FISI-19',\n",
    "    'RD 406-D-FISI-2019': 'RD 406-D-FISI-19',\n",
    "    'RD 000451-2020-D': 'RD 451-D-FISI-20',\n",
    "    'RD 00439': 'RD 439-D-FISI-20',\n",
    "    'RD 000445-2020-D': 'RD 445-D-FISI-20',\n",
    "    'RD 000445-2020-D': 'RD 445-D-FISI-20'\n",
    "})\n"
   ]
  },
  {
   "cell_type": "code",
   "execution_count": 46,
   "id": "720f8727",
   "metadata": {},
   "outputs": [
    {
     "data": {
      "text/plain": [
       "['RD 138-D-FISI-19',\n",
       " 'RD 125-D-FISI-19',\n",
       " 'RD 405-D-FISI-19',\n",
       " 'RD 164-D-FISI-19',\n",
       " 'RD 174-D-FISI-19',\n",
       " 'RD 126-D-FISI-19',\n",
       " 'RD 139-D-FISI-19',\n",
       " 'RD 165-D-FISI-19',\n",
       " 'RD 175-D-FISI-19',\n",
       " 'RD 406-D-FISI-19',\n",
       " 'RD 405-FISI-2019',\n",
       " 'RD  716-D-FISI-19',\n",
       " 'RD 00744-D-FISI-19',\n",
       " 'RD 405 D-FISI-2019',\n",
       " 'RD 716-D-FISI-19',\n",
       " 'RD 406 D-FISI-2019',\n",
       " 'RD 00406-D-FISI',\n",
       " 'RD 406-FISI-2019',\n",
       " 'RD 406-D-FISI-2016',\n",
       " '716-D-FISI-2019',\n",
       " 'RD 107-D-FISI-2020',\n",
       " 'RD 107-D-FISI2020',\n",
       " 'RD 000439-2020-D',\n",
       " 'RD 00439-2020-D',\n",
       " 'RD 451-D-FISI-20',\n",
       " 'RD 439-D-FISI-20',\n",
       " 'RD 445-D-FISI-20',\n",
       " 'RD 000539-2020-D-',\n",
       " nan]"
      ]
     },
     "execution_count": 46,
     "metadata": {},
     "output_type": "execute_result"
    }
   ],
   "source": [
    "# IDENTIFICACIÓN DE NUM_RES_AUTORIZA DEL DATASET DE TUTORIAS\n",
    "df_tutorias['num_res_autoriza'].unique().tolist()  # Muestra los valores únicos de la columna num_res_autoriza"
   ]
  },
  {
   "cell_type": "code",
   "execution_count": 47,
   "id": "5e2003c8",
   "metadata": {},
   "outputs": [],
   "source": [
    "# REEMPLAZAR VALORES DE NUM_RES_AUTORIZA\n",
    "df_tutorias['num_res_autoriza'] = df_tutorias['num_res_autoriza'].replace({\n",
    "    'RD 405-FISI-2019': 'RD 405-D-FISI-19',\n",
    "    'RD  716-D-FISI-19': 'RD 716-D-FISI-19',\n",
    "    'RD 00744-D-FISI-19': 'RD 744-D-FISI-19',\n",
    "    'RD 405 D-FISI-2019': 'RD 405-D-FISI-19',\n",
    "    'RD 406 D-FISI-2019': 'RD 406-D-FISI-19',\n",
    "    'RD 00406-D-FISI': 'RD 406-D-FISI-19',\n",
    "    'RD 406-FISI-2019': 'RD 406-D-FISI-19',\n",
    "    'RD 406-D-FISI-2016': 'RD 406-D-FISI-19',\n",
    "    '716-D-FISI-2019': 'RD 716-D-FISI-19',\n",
    "    'RD 107-D-FISI-2020': 'RD 107-D-FISI-20',\n",
    "    'RD 107-D-FISI2020': 'RD 107-D-FISI-20',\n",
    "    'RD 000439-2020-D': 'RD 439-D-FISI-20',\n",
    "    'RD 00439-2020-D': 'RD 439-D-FISI-20',\n",
    "    'RD 000539-2020-D-': 'RD 539-D-FISI-20'\n",
    "})"
   ]
  },
  {
   "cell_type": "code",
   "execution_count": 48,
   "id": "4f3d366f",
   "metadata": {},
   "outputs": [
    {
     "data": {
      "text/plain": [
       "['RD 138-D-FISI-19',\n",
       " 'RD 125-D-FISI-19',\n",
       " 'RD 405-D-FISI-19',\n",
       " 'RD 164-D-FISI-19',\n",
       " 'RD 174-D-FISI-19',\n",
       " 'RD 126-D-FISI-19',\n",
       " 'RD 139-D-FISI-19',\n",
       " 'RD 165-D-FISI-19',\n",
       " 'RD 175-D-FISI-19',\n",
       " 'RD 406-D-FISI-19',\n",
       " 'RD 716-D-FISI-19',\n",
       " 'RD 744-D-FISI-19',\n",
       " 'RD 107-D-FISI-20',\n",
       " 'RD 439-D-FISI-20',\n",
       " 'RD 451-D-FISI-20',\n",
       " 'RD 445-D-FISI-20',\n",
       " 'RD 539-D-FISI-20',\n",
       " nan]"
      ]
     },
     "execution_count": 48,
     "metadata": {},
     "output_type": "execute_result"
    }
   ],
   "source": [
    "# IDENTIFICACIÓN DE NUM_RES_AUTORIZA DEL DATASET DE TUTORIAS\n",
    "df_tutorias['num_res_autoriza'].unique().tolist()  # Muestra los valores únicos de la columna num_res_autoriza"
   ]
  },
  {
   "cell_type": "code",
   "execution_count": 49,
   "id": "b8e4c899",
   "metadata": {},
   "outputs": [],
   "source": [
    "# Función auxiliar para generar un num_res_autoriza sintético pero realista\n",
    "def generar_resolucion(id_semestre):\n",
    "    anio = str(id_semestre)[:4][-2:]  # Extrae los dos últimos dígitos del año\n",
    "    numero = random.randint(100, 800)\n",
    "    return f\"RD {numero}-D-FISI-{anio}\""
   ]
  },
  {
   "cell_type": "code",
   "execution_count": 50,
   "id": "22a5f8b3",
   "metadata": {},
   "outputs": [],
   "source": [
    "# CREACIÓN DE TUTORÍAS SINTÉTICAS\n",
    "tutorias = []\n",
    "\n",
    "for _, row in df_reprobaciones4.iterrows():\n",
    "    if random.random() < 0.7:  # 70% probabilidad de tener tutoría\n",
    "        tutorias.append({\n",
    "            \"id_estudiante\": row.id_estudiante,\n",
    "            \"id_semestre\": row.id_semestre,\n",
    "            \"tipo_autorizacion\": random.choice(['AM', 'TO']),\n",
    "            \"num_res_autoriza\": generar_resolucion(row.id_semestre)\n",
    "        })"
   ]
  },
  {
   "cell_type": "code",
   "execution_count": 51,
   "id": "3022283e",
   "metadata": {},
   "outputs": [],
   "source": [
    "# GUARDAR EN UN DATAFRAME\n",
    "df_tutorias2 = pd.DataFrame(tutorias)"
   ]
  },
  {
   "cell_type": "code",
   "execution_count": 52,
   "id": "1bd81696",
   "metadata": {},
   "outputs": [
    {
     "name": "stdout",
     "output_type": "stream",
     "text": [
      "DATASET TUTORIAS 2021-2025:\n",
      "       id_estudiante  id_semestre tipo_autorizacion  num_res_autoriza\n",
      "63910       25200216        20250                TO  RD 184-D-FISI-25\n",
      "63911       25200216        20231                TO  RD 642-D-FISI-23\n",
      "63912       25200216        20202                TO  RD 381-D-FISI-20\n",
      "63913       25200216        20241                AM  RD 730-D-FISI-24\n",
      "63914       25200216        20190                TO  RD 409-D-FISI-19\n"
     ]
    }
   ],
   "source": [
    "print(\"DATASET TUTORIAS 2021-2025:\")\n",
    "print(df_tutorias2.tail(5))  # Muestra los últimos 5 registros"
   ]
  },
  {
   "cell_type": "code",
   "execution_count": 53,
   "id": "f236a12c",
   "metadata": {},
   "outputs": [],
   "source": [
    "# UNIR DATASETS DE TUTORIAS (HISTÓRICO Y NUEVO)\n",
    "df_tutorias3 = pd.concat([df_tutorias, df_tutorias2], ignore_index=True)"
   ]
  },
  {
   "cell_type": "code",
   "execution_count": 54,
   "id": "0748aecb",
   "metadata": {},
   "outputs": [],
   "source": [
    "# GUARDAR EL DATASET NUEVO DE TUTORIAS (2019-2025))\n",
    "df_tutorias3.to_csv('../fuentes_datos/datasets_finales/CSV/tutorias_completo.csv', index=False, sep=';')"
   ]
  }
 ],
 "metadata": {
  "kernelspec": {
   "display_name": ".venv",
   "language": "python",
   "name": "python3"
  },
  "language_info": {
   "codemirror_mode": {
    "name": "ipython",
    "version": 3
   },
   "file_extension": ".py",
   "mimetype": "text/x-python",
   "name": "python",
   "nbconvert_exporter": "python",
   "pygments_lexer": "ipython3",
   "version": "3.12.5"
  }
 },
 "nbformat": 4,
 "nbformat_minor": 5
}
