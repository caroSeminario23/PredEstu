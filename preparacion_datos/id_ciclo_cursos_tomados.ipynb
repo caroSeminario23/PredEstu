{
 "cells": [
  {
   "cell_type": "markdown",
   "id": "a26711b0",
   "metadata": {},
   "source": [
    "# IDENTIFICANDO EL ID_CICLO DEL DATASET CURSOS TOMADOS"
   ]
  },
  {
   "cell_type": "code",
   "execution_count": 1,
   "id": "9f00f399",
   "metadata": {},
   "outputs": [
    {
     "name": "stdout",
     "output_type": "stream",
     "text": [
      "Requirement already satisfied: pandas in c:\\users\\carolina\\documents\\proyectos_programacion\\predestu\\.venv\\lib\\site-packages (2.3.1)\n",
      "Requirement already satisfied: numpy>=1.26.0 in c:\\users\\carolina\\documents\\proyectos_programacion\\predestu\\.venv\\lib\\site-packages (from pandas) (2.3.1)\n",
      "Requirement already satisfied: python-dateutil>=2.8.2 in c:\\users\\carolina\\documents\\proyectos_programacion\\predestu\\.venv\\lib\\site-packages (from pandas) (2.9.0.post0)\n",
      "Requirement already satisfied: pytz>=2020.1 in c:\\users\\carolina\\documents\\proyectos_programacion\\predestu\\.venv\\lib\\site-packages (from pandas) (2025.2)\n",
      "Requirement already satisfied: tzdata>=2022.7 in c:\\users\\carolina\\documents\\proyectos_programacion\\predestu\\.venv\\lib\\site-packages (from pandas) (2025.2)\n",
      "Requirement already satisfied: six>=1.5 in c:\\users\\carolina\\documents\\proyectos_programacion\\predestu\\.venv\\lib\\site-packages (from python-dateutil>=2.8.2->pandas) (1.17.0)\n",
      "Note: you may need to restart the kernel to use updated packages.\n"
     ]
    }
   ],
   "source": [
    "# INSTALACIÓN DE LIBRERÍAS NECESARIAS\n",
    "%pip install pandas"
   ]
  },
  {
   "cell_type": "code",
   "execution_count": 2,
   "id": "1e1ab712",
   "metadata": {},
   "outputs": [],
   "source": [
    "# IMPORTACIÓN DE LIBRERÍAS\n",
    "import pandas as pd"
   ]
  },
  {
   "cell_type": "code",
   "execution_count": 21,
   "id": "a80824e4",
   "metadata": {},
   "outputs": [
    {
     "name": "stderr",
     "output_type": "stream",
     "text": [
      "C:\\Users\\carolina\\AppData\\Local\\Temp\\ipykernel_39828\\2675912902.py:3: DtypeWarning: Columns (1) have mixed types. Specify dtype option on import or set low_memory=False.\n",
      "  df_cursos_tomados = pd.read_csv('../fuentes_datos/datasets_finales/curso_tomado.csv', delimiter=';')\n"
     ]
    }
   ],
   "source": [
    "# CARGAR 2 DATASETS\n",
    "df_cursos = pd.read_csv('../fuentes_datos/datasets_finales/curso.csv', delimiter=';')\n",
    "df_cursos_tomados = pd.read_csv('../fuentes_datos/datasets_finales/curso_tomado.csv', delimiter=';')"
   ]
  },
  {
   "cell_type": "code",
   "execution_count": 22,
   "id": "e9a47aa3",
   "metadata": {},
   "outputs": [
    {
     "name": "stdout",
     "output_type": "stream",
     "text": [
      "DATASET CURSOS:\n",
      "  id_curso                     nombre tipo  creditos  t_aprobacion  id_ciclo\n",
      "0   201001              ALGORÍTMICA I    O         4           NaN         2\n",
      "1   201003                  CALCULO I    O         4           NaN         2\n",
      "2   201004        MATEMÁTICA BÁSICA I    O         4           NaN         2\n",
      "3   201007  COMPUTACIÓN E INFORMÁTICA    O         4           NaN         2\n",
      "4   201008         TEORIA DE SISTEMAS    O         3           NaN         2\n",
      "\n",
      "DATASET CURSOS TOMADOS:\n",
      "   id_ct id_estudiante  id_curso  id_semestre  nota  id_ciclo\n",
      "0      1      14010243  MH0460              2    17       NaN\n",
      "1      2      14010243  MH0461              2    15       NaN\n",
      "2      3      14010243  MH0462              2    16       NaN\n",
      "3      4      14010243  MH0463              2    17       NaN\n",
      "4      5      14010243  MH0464              2    13       NaN\n"
     ]
    }
   ],
   "source": [
    "print(\"DATASET CURSOS:\")\n",
    "print(df_cursos.head())\n",
    "print(\"\\nDATASET CURSOS TOMADOS:\")\n",
    "print(df_cursos_tomados.head())"
   ]
  },
  {
   "cell_type": "code",
   "execution_count": 23,
   "id": "17e5face",
   "metadata": {},
   "outputs": [],
   "source": [
    "# AGREGAR EL ID_CICLO AL DATASET CURSOS_TOMADOS\n",
    "df_cursos_tomados = df_cursos_tomados.drop(columns=['id_ciclo'], errors='ignore')  # Eliminar la columna si ya existe\n",
    "df_cursos_tomados = pd.merge(df_cursos_tomados, df_cursos[['id_curso', 'id_ciclo']], on='id_curso', how='left')\n",
    "df_cursos_tomados['id_ciclo'] = df_cursos_tomados['id_ciclo'].fillna(-1)  # Asignar -1 si no se encuentra el curso"
   ]
  },
  {
   "cell_type": "code",
   "execution_count": 24,
   "id": "62378492",
   "metadata": {},
   "outputs": [
    {
     "name": "stdout",
     "output_type": "stream",
     "text": [
      "DATASET CURSOS_TOMADOS CON ID_CICLO:\n",
      "   id_ct id_estudiante  id_curso  id_semestre  nota  id_ciclo\n",
      "0      1      14010243  MH0460              2    17      -1.0\n",
      "1      2      14010243  MH0461              2    15      -1.0\n",
      "2      3      14010243  MH0462              2    16      -1.0\n",
      "3      4      14010243  MH0463              2    17      -1.0\n",
      "4      5      14010243  MH0464              2    13      -1.0\n"
     ]
    }
   ],
   "source": [
    "print(\"DATASET CURSOS_TOMADOS CON ID_CICLO:\")\n",
    "print(df_cursos_tomados.head())"
   ]
  },
  {
   "cell_type": "code",
   "execution_count": 25,
   "id": "72e7fa7f",
   "metadata": {},
   "outputs": [],
   "source": [
    "n_cursos_sin_ciclo = df_cursos_tomados[df_cursos_tomados['id_ciclo'] == -1].shape[0]\n",
    "n_cursos_con_ciclo = df_cursos_tomados[df_cursos_tomados['id_ciclo'] >= 0].shape[0]"
   ]
  },
  {
   "cell_type": "code",
   "execution_count": 28,
   "id": "b9c84327",
   "metadata": {},
   "outputs": [
    {
     "name": "stdout",
     "output_type": "stream",
     "text": [
      "Cantidad de registros en df_cursos_tomados: 268644\n",
      "Cantidad de cursos sin id_ciclo: 256032\n",
      "Cantidad de cursos con id_ciclo: 12612\n"
     ]
    }
   ],
   "source": [
    "print(\"Cantidad de registros en df_cursos_tomados:\", len(df_cursos_tomados))\n",
    "print(\"Cantidad de cursos sin id_ciclo:\", n_cursos_sin_ciclo)\n",
    "print(\"Cantidad de cursos con id_ciclo:\", n_cursos_con_ciclo)"
   ]
  },
  {
   "cell_type": "code",
   "execution_count": 29,
   "id": "0d832d0b",
   "metadata": {},
   "outputs": [],
   "source": [
    "# NUEVO DATASET CON CURSOS_TOMADOS QUE TIENEN ID_CICLO\n",
    "df_cursos_tomados_con_ciclo = df_cursos_tomados[df_cursos_tomados['id_ciclo'] >= 0]"
   ]
  },
  {
   "cell_type": "code",
   "execution_count": 30,
   "id": "413b5591",
   "metadata": {},
   "outputs": [
    {
     "name": "stdout",
     "output_type": "stream",
     "text": [
      "DATASET CURSOS_TOMADOS CON CICLO:\n",
      "         id_ct id_estudiante id_curso  id_semestre  nota  id_ciclo\n",
      "143985  143986       8200187   201003            2    16       2.0\n",
      "143986  143987       6200206   201101            2    15      11.0\n",
      "143987  143988       7200092   201101            2     6      11.0\n",
      "143988  143989        110749   201101            2    14      11.0\n",
      "143989  143990       4200074   201101            2    12      11.0\n"
     ]
    }
   ],
   "source": [
    "print(\"DATASET CURSOS_TOMADOS CON CICLO:\")\n",
    "print(df_cursos_tomados_con_ciclo.head())"
   ]
  },
  {
   "cell_type": "code",
   "execution_count": 31,
   "id": "1382abd2",
   "metadata": {},
   "outputs": [
    {
     "name": "stderr",
     "output_type": "stream",
     "text": [
      "C:\\Users\\carolina\\AppData\\Local\\Temp\\ipykernel_39828\\3757369315.py:2: SettingWithCopyWarning: \n",
      "A value is trying to be set on a copy of a slice from a DataFrame.\n",
      "Try using .loc[row_indexer,col_indexer] = value instead\n",
      "\n",
      "See the caveats in the documentation: https://pandas.pydata.org/pandas-docs/stable/user_guide/indexing.html#returning-a-view-versus-a-copy\n",
      "  df_cursos_tomados_con_ciclo['id_ciclo'] = df_cursos_tomados_con_ciclo['id_ciclo'].astype(int)\n"
     ]
    }
   ],
   "source": [
    "# CONVERTIR LA COLUMNA 'id_ciclo' A ENTERO\n",
    "df_cursos_tomados_con_ciclo['id_ciclo'] = df_cursos_tomados_con_ciclo['id_ciclo'].astype(int)"
   ]
  },
  {
   "cell_type": "code",
   "execution_count": 32,
   "id": "c73cc672",
   "metadata": {},
   "outputs": [
    {
     "name": "stdout",
     "output_type": "stream",
     "text": [
      "DATASET CURSOS_TOMADOS CON CICLO:\n",
      "         id_ct id_estudiante id_curso  id_semestre  nota  id_ciclo\n",
      "143985  143986       8200187   201003            2    16         2\n",
      "143986  143987       6200206   201101            2    15        11\n",
      "143987  143988       7200092   201101            2     6        11\n",
      "143988  143989        110749   201101            2    14        11\n",
      "143989  143990       4200074   201101            2    12        11\n"
     ]
    }
   ],
   "source": [
    "print(\"DATASET CURSOS_TOMADOS CON CICLO:\")\n",
    "print(df_cursos_tomados_con_ciclo.head())"
   ]
  },
  {
   "cell_type": "code",
   "execution_count": 34,
   "id": "1839a8ca",
   "metadata": {},
   "outputs": [],
   "source": [
    "# GUARDAR EL DATASET CURSOS_TOMADOS CON ID_CICLO\n",
    "df_cursos_tomados_con_ciclo.to_csv('../fuentes_datos/datasets_finales/curso_tomados_con_ciclo.csv', index=False, sep=';')"
   ]
  }
 ],
 "metadata": {
  "kernelspec": {
   "display_name": ".venv",
   "language": "python",
   "name": "python3"
  },
  "language_info": {
   "codemirror_mode": {
    "name": "ipython",
    "version": 3
   },
   "file_extension": ".py",
   "mimetype": "text/x-python",
   "name": "python",
   "nbconvert_exporter": "python",
   "pygments_lexer": "ipython3",
   "version": "3.12.5"
  }
 },
 "nbformat": 4,
 "nbformat_minor": 5
}
