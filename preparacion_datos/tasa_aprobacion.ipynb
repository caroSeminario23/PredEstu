{
 "cells": [
  {
   "cell_type": "markdown",
   "id": "951c5d8b",
   "metadata": {},
   "source": [
    "# CALCULANDO LA TASA DE APROBACION DE UN CURSO"
   ]
  },
  {
   "cell_type": "code",
   "execution_count": 1,
   "id": "86017487",
   "metadata": {},
   "outputs": [
    {
     "name": "stdout",
     "output_type": "stream",
     "text": [
      "Collecting pandas\n",
      "  Downloading pandas-2.3.1-cp312-cp312-win_amd64.whl.metadata (19 kB)\n",
      "Collecting numpy>=1.26.0 (from pandas)\n",
      "  Using cached numpy-2.3.1-cp312-cp312-win_amd64.whl.metadata (60 kB)\n",
      "Requirement already satisfied: python-dateutil>=2.8.2 in c:\\users\\carolina\\documents\\proyectos_programacion\\predestu\\.venv\\lib\\site-packages (from pandas) (2.9.0.post0)\n",
      "Collecting pytz>=2020.1 (from pandas)\n",
      "  Using cached pytz-2025.2-py2.py3-none-any.whl.metadata (22 kB)\n",
      "Collecting tzdata>=2022.7 (from pandas)\n",
      "  Using cached tzdata-2025.2-py2.py3-none-any.whl.metadata (1.4 kB)\n",
      "Requirement already satisfied: six>=1.5 in c:\\users\\carolina\\documents\\proyectos_programacion\\predestu\\.venv\\lib\\site-packages (from python-dateutil>=2.8.2->pandas) (1.17.0)\n",
      "Downloading pandas-2.3.1-cp312-cp312-win_amd64.whl (11.0 MB)\n",
      "   ---------------------------------------- 0.0/11.0 MB ? eta -:--:--\n",
      "   -------------------------------- ------- 8.9/11.0 MB 46.3 MB/s eta 0:00:01\n",
      "   ---------------------------------------- 11.0/11.0 MB 28.6 MB/s eta 0:00:00\n",
      "Using cached numpy-2.3.1-cp312-cp312-win_amd64.whl (12.7 MB)\n",
      "Using cached pytz-2025.2-py2.py3-none-any.whl (509 kB)\n",
      "Using cached tzdata-2025.2-py2.py3-none-any.whl (347 kB)\n",
      "Installing collected packages: pytz, tzdata, numpy, pandas\n",
      "\n",
      "   ---------------------------------------- 0/4 [pytz]\n",
      "   ---------------------------------------- 0/4 [pytz]\n",
      "   ---------- ----------------------------- 1/4 [tzdata]\n",
      "   ---------- ----------------------------- 1/4 [tzdata]\n",
      "   -------------------- ------------------- 2/4 [numpy]\n",
      "   -------------------- ------------------- 2/4 [numpy]\n",
      "   -------------------- ------------------- 2/4 [numpy]\n",
      "   -------------------- ------------------- 2/4 [numpy]\n",
      "   -------------------- ------------------- 2/4 [numpy]\n",
      "   -------------------- ------------------- 2/4 [numpy]\n",
      "   -------------------- ------------------- 2/4 [numpy]\n",
      "   -------------------- ------------------- 2/4 [numpy]\n",
      "   -------------------- ------------------- 2/4 [numpy]\n",
      "   -------------------- ------------------- 2/4 [numpy]\n",
      "   -------------------- ------------------- 2/4 [numpy]\n",
      "   -------------------- ------------------- 2/4 [numpy]\n",
      "   -------------------- ------------------- 2/4 [numpy]\n",
      "   -------------------- ------------------- 2/4 [numpy]\n",
      "   -------------------- ------------------- 2/4 [numpy]\n",
      "   -------------------- ------------------- 2/4 [numpy]\n",
      "   -------------------- ------------------- 2/4 [numpy]\n",
      "   -------------------- ------------------- 2/4 [numpy]\n",
      "   -------------------- ------------------- 2/4 [numpy]\n",
      "   -------------------- ------------------- 2/4 [numpy]\n",
      "   -------------------- ------------------- 2/4 [numpy]\n",
      "   -------------------- ------------------- 2/4 [numpy]\n",
      "   -------------------- ------------------- 2/4 [numpy]\n",
      "   -------------------- ------------------- 2/4 [numpy]\n",
      "   -------------------- ------------------- 2/4 [numpy]\n",
      "   -------------------- ------------------- 2/4 [numpy]\n",
      "   -------------------- ------------------- 2/4 [numpy]\n",
      "   -------------------- ------------------- 2/4 [numpy]\n",
      "   -------------------- ------------------- 2/4 [numpy]\n",
      "   -------------------- ------------------- 2/4 [numpy]\n",
      "   -------------------- ------------------- 2/4 [numpy]\n",
      "   -------------------- ------------------- 2/4 [numpy]\n",
      "   -------------------- ------------------- 2/4 [numpy]\n",
      "   -------------------- ------------------- 2/4 [numpy]\n",
      "   -------------------- ------------------- 2/4 [numpy]\n",
      "   -------------------- ------------------- 2/4 [numpy]\n",
      "   -------------------- ------------------- 2/4 [numpy]\n",
      "   -------------------- ------------------- 2/4 [numpy]\n",
      "   -------------------- ------------------- 2/4 [numpy]\n",
      "   -------------------- ------------------- 2/4 [numpy]\n",
      "   -------------------- ------------------- 2/4 [numpy]\n",
      "   -------------------- ------------------- 2/4 [numpy]\n",
      "   -------------------- ------------------- 2/4 [numpy]\n",
      "   -------------------- ------------------- 2/4 [numpy]\n",
      "   -------------------- ------------------- 2/4 [numpy]\n",
      "   -------------------- ------------------- 2/4 [numpy]\n",
      "   -------------------- ------------------- 2/4 [numpy]\n",
      "   -------------------- ------------------- 2/4 [numpy]\n",
      "   -------------------- ------------------- 2/4 [numpy]\n",
      "   -------------------- ------------------- 2/4 [numpy]\n",
      "   -------------------- ------------------- 2/4 [numpy]\n",
      "   ------------------------------ --------- 3/4 [pandas]\n",
      "   ------------------------------ --------- 3/4 [pandas]\n",
      "   ------------------------------ --------- 3/4 [pandas]\n",
      "   ------------------------------ --------- 3/4 [pandas]\n",
      "   ------------------------------ --------- 3/4 [pandas]\n",
      "   ------------------------------ --------- 3/4 [pandas]\n",
      "   ------------------------------ --------- 3/4 [pandas]\n",
      "   ------------------------------ --------- 3/4 [pandas]\n",
      "   ------------------------------ --------- 3/4 [pandas]\n",
      "   ------------------------------ --------- 3/4 [pandas]\n",
      "   ------------------------------ --------- 3/4 [pandas]\n",
      "   ------------------------------ --------- 3/4 [pandas]\n",
      "   ------------------------------ --------- 3/4 [pandas]\n",
      "   ------------------------------ --------- 3/4 [pandas]\n",
      "   ------------------------------ --------- 3/4 [pandas]\n",
      "   ------------------------------ --------- 3/4 [pandas]\n",
      "   ------------------------------ --------- 3/4 [pandas]\n",
      "   ------------------------------ --------- 3/4 [pandas]\n",
      "   ------------------------------ --------- 3/4 [pandas]\n",
      "   ------------------------------ --------- 3/4 [pandas]\n",
      "   ------------------------------ --------- 3/4 [pandas]\n",
      "   ------------------------------ --------- 3/4 [pandas]\n",
      "   ------------------------------ --------- 3/4 [pandas]\n",
      "   ------------------------------ --------- 3/4 [pandas]\n",
      "   ------------------------------ --------- 3/4 [pandas]\n",
      "   ------------------------------ --------- 3/4 [pandas]\n",
      "   ------------------------------ --------- 3/4 [pandas]\n",
      "   ------------------------------ --------- 3/4 [pandas]\n",
      "   ------------------------------ --------- 3/4 [pandas]\n",
      "   ------------------------------ --------- 3/4 [pandas]\n",
      "   ------------------------------ --------- 3/4 [pandas]\n",
      "   ------------------------------ --------- 3/4 [pandas]\n",
      "   ------------------------------ --------- 3/4 [pandas]\n",
      "   ------------------------------ --------- 3/4 [pandas]\n",
      "   ------------------------------ --------- 3/4 [pandas]\n",
      "   ------------------------------ --------- 3/4 [pandas]\n",
      "   ------------------------------ --------- 3/4 [pandas]\n",
      "   ------------------------------ --------- 3/4 [pandas]\n",
      "   ------------------------------ --------- 3/4 [pandas]\n",
      "   ------------------------------ --------- 3/4 [pandas]\n",
      "   ------------------------------ --------- 3/4 [pandas]\n",
      "   ------------------------------ --------- 3/4 [pandas]\n",
      "   ------------------------------ --------- 3/4 [pandas]\n",
      "   ------------------------------ --------- 3/4 [pandas]\n",
      "   ------------------------------ --------- 3/4 [pandas]\n",
      "   ------------------------------ --------- 3/4 [pandas]\n",
      "   ------------------------------ --------- 3/4 [pandas]\n",
      "   ------------------------------ --------- 3/4 [pandas]\n",
      "   ------------------------------ --------- 3/4 [pandas]\n",
      "   ------------------------------ --------- 3/4 [pandas]\n",
      "   ------------------------------ --------- 3/4 [pandas]\n",
      "   ------------------------------ --------- 3/4 [pandas]\n",
      "   ------------------------------ --------- 3/4 [pandas]\n",
      "   ------------------------------ --------- 3/4 [pandas]\n",
      "   ------------------------------ --------- 3/4 [pandas]\n",
      "   ------------------------------ --------- 3/4 [pandas]\n",
      "   ------------------------------ --------- 3/4 [pandas]\n",
      "   ------------------------------ --------- 3/4 [pandas]\n",
      "   ------------------------------ --------- 3/4 [pandas]\n",
      "   ------------------------------ --------- 3/4 [pandas]\n",
      "   ------------------------------ --------- 3/4 [pandas]\n",
      "   ------------------------------ --------- 3/4 [pandas]\n",
      "   ------------------------------ --------- 3/4 [pandas]\n",
      "   ------------------------------ --------- 3/4 [pandas]\n",
      "   ------------------------------ --------- 3/4 [pandas]\n",
      "   ------------------------------ --------- 3/4 [pandas]\n",
      "   ------------------------------ --------- 3/4 [pandas]\n",
      "   ------------------------------ --------- 3/4 [pandas]\n",
      "   ------------------------------ --------- 3/4 [pandas]\n",
      "   ------------------------------ --------- 3/4 [pandas]\n",
      "   ------------------------------ --------- 3/4 [pandas]\n",
      "   ------------------------------ --------- 3/4 [pandas]\n",
      "   ------------------------------ --------- 3/4 [pandas]\n",
      "   ------------------------------ --------- 3/4 [pandas]\n",
      "   ------------------------------ --------- 3/4 [pandas]\n",
      "   ------------------------------ --------- 3/4 [pandas]\n",
      "   ------------------------------ --------- 3/4 [pandas]\n",
      "   ------------------------------ --------- 3/4 [pandas]\n",
      "   ------------------------------ --------- 3/4 [pandas]\n",
      "   ------------------------------ --------- 3/4 [pandas]\n",
      "   ------------------------------ --------- 3/4 [pandas]\n",
      "   ------------------------------ --------- 3/4 [pandas]\n",
      "   ------------------------------ --------- 3/4 [pandas]\n",
      "   ------------------------------ --------- 3/4 [pandas]\n",
      "   ------------------------------ --------- 3/4 [pandas]\n",
      "   ------------------------------ --------- 3/4 [pandas]\n",
      "   ------------------------------ --------- 3/4 [pandas]\n",
      "   ------------------------------ --------- 3/4 [pandas]\n",
      "   ------------------------------ --------- 3/4 [pandas]\n",
      "   ------------------------------ --------- 3/4 [pandas]\n",
      "   ------------------------------ --------- 3/4 [pandas]\n",
      "   ------------------------------ --------- 3/4 [pandas]\n",
      "   ------------------------------ --------- 3/4 [pandas]\n",
      "   ------------------------------ --------- 3/4 [pandas]\n",
      "   ------------------------------ --------- 3/4 [pandas]\n",
      "   ------------------------------ --------- 3/4 [pandas]\n",
      "   ------------------------------ --------- 3/4 [pandas]\n",
      "   ------------------------------ --------- 3/4 [pandas]\n",
      "   ------------------------------ --------- 3/4 [pandas]\n",
      "   ------------------------------ --------- 3/4 [pandas]\n",
      "   ------------------------------ --------- 3/4 [pandas]\n",
      "   ------------------------------ --------- 3/4 [pandas]\n",
      "   ------------------------------ --------- 3/4 [pandas]\n",
      "   ------------------------------ --------- 3/4 [pandas]\n",
      "   ------------------------------ --------- 3/4 [pandas]\n",
      "   ------------------------------ --------- 3/4 [pandas]\n",
      "   ------------------------------ --------- 3/4 [pandas]\n",
      "   ------------------------------ --------- 3/4 [pandas]\n",
      "   ------------------------------ --------- 3/4 [pandas]\n",
      "   ------------------------------ --------- 3/4 [pandas]\n",
      "   ------------------------------ --------- 3/4 [pandas]\n",
      "   ------------------------------ --------- 3/4 [pandas]\n",
      "   ------------------------------ --------- 3/4 [pandas]\n",
      "   ------------------------------ --------- 3/4 [pandas]\n",
      "   ------------------------------ --------- 3/4 [pandas]\n",
      "   ------------------------------ --------- 3/4 [pandas]\n",
      "   ------------------------------ --------- 3/4 [pandas]\n",
      "   ------------------------------ --------- 3/4 [pandas]\n",
      "   ------------------------------ --------- 3/4 [pandas]\n",
      "   ------------------------------ --------- 3/4 [pandas]\n",
      "   ------------------------------ --------- 3/4 [pandas]\n",
      "   ------------------------------ --------- 3/4 [pandas]\n",
      "   ------------------------------ --------- 3/4 [pandas]\n",
      "   ------------------------------ --------- 3/4 [pandas]\n",
      "   ------------------------------ --------- 3/4 [pandas]\n",
      "   ------------------------------ --------- 3/4 [pandas]\n",
      "   ------------------------------ --------- 3/4 [pandas]\n",
      "   ------------------------------ --------- 3/4 [pandas]\n",
      "   ------------------------------ --------- 3/4 [pandas]\n",
      "   ------------------------------ --------- 3/4 [pandas]\n",
      "   ------------------------------ --------- 3/4 [pandas]\n",
      "   ------------------------------ --------- 3/4 [pandas]\n",
      "   ------------------------------ --------- 3/4 [pandas]\n",
      "   ------------------------------ --------- 3/4 [pandas]\n",
      "   ------------------------------ --------- 3/4 [pandas]\n",
      "   ------------------------------ --------- 3/4 [pandas]\n",
      "   ------------------------------ --------- 3/4 [pandas]\n",
      "   ------------------------------ --------- 3/4 [pandas]\n",
      "   ------------------------------ --------- 3/4 [pandas]\n",
      "   ------------------------------ --------- 3/4 [pandas]\n",
      "   ------------------------------ --------- 3/4 [pandas]\n",
      "   ------------------------------ --------- 3/4 [pandas]\n",
      "   ------------------------------ --------- 3/4 [pandas]\n",
      "   ------------------------------ --------- 3/4 [pandas]\n",
      "   ------------------------------ --------- 3/4 [pandas]\n",
      "   ------------------------------ --------- 3/4 [pandas]\n",
      "   ------------------------------ --------- 3/4 [pandas]\n",
      "   ---------------------------------------- 4/4 [pandas]\n",
      "\n",
      "Successfully installed numpy-2.3.1 pandas-2.3.1 pytz-2025.2 tzdata-2025.2\n",
      "Note: you may need to restart the kernel to use updated packages.\n"
     ]
    }
   ],
   "source": [
    "# INSTALACIÓN DE LIBRERÍAS NECESARIAS\n",
    "%pip install pandas"
   ]
  },
  {
   "cell_type": "code",
   "execution_count": 2,
   "id": "1f5046a9",
   "metadata": {},
   "outputs": [],
   "source": [
    "# IMPORTACIÓN DE LIBRERÍAS\n",
    "import pandas as pd"
   ]
  },
  {
   "cell_type": "code",
   "execution_count": null,
   "id": "57f55a97",
   "metadata": {},
   "outputs": [
    {
     "name": "stderr",
     "output_type": "stream",
     "text": [
      "C:\\Users\\carolina\\AppData\\Local\\Temp\\ipykernel_37732\\3252559858.py:3: DtypeWarning: Columns (1) have mixed types. Specify dtype option on import or set low_memory=False.\n",
      "  df_cursos_tomados = pd.read_csv('../fuentes_datos/datasets_finales/curso_tomado.csv', delimiter=';')\n"
     ]
    }
   ],
   "source": [
    "# CARGAR 2 DATASETS\n",
    "df_cursos = pd.read_csv('../fuentes_datos/datasets_finales/curso.csv', delimiter=';')\n",
    "df_cursos_tomados = pd.read_csv('../fuentes_datos/datasets_finales/curso_tomado.csv', delimiter=';')"
   ]
  },
  {
   "cell_type": "code",
   "execution_count": 58,
   "id": "8b130f27",
   "metadata": {},
   "outputs": [
    {
     "name": "stdout",
     "output_type": "stream",
     "text": [
      "DATASET CURSOS:\n",
      "  id_curso                     nombre tipo  creditos  t_aprobacion  id_ciclo\n",
      "0   201001              ALGORÍTMICA I    O         4           NaN         2\n",
      "1   201003                  CALCULO I    O         4           NaN         2\n",
      "2   201004        MATEMÁTICA BÁSICA I    O         4           NaN         2\n",
      "3   201007  COMPUTACIÓN E INFORMÁTICA    O         4           NaN         2\n",
      "4   201008         TEORIA DE SISTEMAS    O         3           NaN         2\n",
      "\n",
      "DATASET CURSOS TOMADOS:\n",
      "   id_ct id_estudiante  id_curso  id_semestre  nota  id_ciclo\n",
      "0      1      14010243  MH0460              2    17       NaN\n",
      "1      2      14010243  MH0461              2    15       NaN\n",
      "2      3      14010243  MH0462              2    16       NaN\n",
      "3      4      14010243  MH0463              2    17       NaN\n",
      "4      5      14010243  MH0464              2    13       NaN\n"
     ]
    }
   ],
   "source": [
    "print(\"DATASET CURSOS:\")\n",
    "print(df_cursos.head())\n",
    "print(\"\\nDATASET CURSOS TOMADOS:\")\n",
    "print(df_cursos_tomados.head())"
   ]
  },
  {
   "cell_type": "code",
   "execution_count": 59,
   "id": "0f22f807",
   "metadata": {},
   "outputs": [],
   "source": [
    "# CALCULAR LA TADA DE APROBACIÓN POR CURSO\n",
    "n_estudiantes_curso = df_cursos_tomados.groupby('id_curso').size().reset_index(name='n_estudiantes')\n",
    "n_estudiantes_aprobados = df_cursos_tomados[df_cursos_tomados['nota'] >= 10.5].groupby('id_curso').size().reset_index(name='n_aprobados')\n",
    "t_aprobacion = pd.merge(n_estudiantes_curso, n_estudiantes_aprobados, on='id_curso', how='left')\n",
    "t_aprobacion['n_aprobados'] = t_aprobacion['n_aprobados'].fillna(-1)  # Reemplazar NaN por -1\n",
    "t_aprobacion['t_aprobacion'] = t_aprobacion['n_aprobados'] / t_aprobacion['n_estudiantes']\n",
    "t_aprobacion = t_aprobacion[['id_curso', 't_aprobacion']]"
   ]
  },
  {
   "cell_type": "code",
   "execution_count": 60,
   "id": "b1efce02",
   "metadata": {},
   "outputs": [
    {
     "name": "stdout",
     "output_type": "stream",
     "text": [
      "TASA DE APROBACIÓN POR CURSO:\n",
      "   id_curso  t_aprobacion\n",
      "0  023A01       -1.000000\n",
      "1  031001M       1.000000\n",
      "2  031002L       0.681818\n",
      "3  03C011       -0.500000\n",
      "4  03C012        0.600000\n"
     ]
    }
   ],
   "source": [
    "print(\"TASA DE APROBACIÓN POR CURSO:\")\n",
    "print(t_aprobacion.head())"
   ]
  },
  {
   "cell_type": "code",
   "execution_count": 61,
   "id": "3dbe342f",
   "metadata": {},
   "outputs": [],
   "source": [
    "n_cursos_sin_tasa = t_aprobacion[t_aprobacion['t_aprobacion'] == -1].shape[0]\n",
    "n_cursos_aprobacion_0 = t_aprobacion[t_aprobacion['t_aprobacion'] == 0].shape[0]\n",
    "n_cursos_aprobacion_1 = t_aprobacion[t_aprobacion['t_aprobacion'] == 1].shape[0]\n",
    "n_cursos_aprobacion_otros = t_aprobacion[(t_aprobacion['t_aprobacion'] > 0) & (t_aprobacion['t_aprobacion'] < 1)].shape[0]"
   ]
  },
  {
   "cell_type": "code",
   "execution_count": 62,
   "id": "93cb7c3c",
   "metadata": {},
   "outputs": [
    {
     "name": "stdout",
     "output_type": "stream",
     "text": [
      "Cantidad de cursos en tasa_aprobacion: 5129\n",
      "Cantidad de cursos sin tasa de aprobación: 46\n",
      "Cantidad de cursos con tasa de aprobación 0: 0\n",
      "Cantidad de cursos con tasa de aprobación 1: 1367\n",
      "Cantidad de cursos con tasa de aprobación entre 0 y 1: 3699\n"
     ]
    }
   ],
   "source": [
    "print(\"Cantidad de cursos en tasa_aprobacion:\", len(t_aprobacion))\n",
    "print(\"Cantidad de cursos sin tasa de aprobación:\", n_cursos_sin_tasa)\n",
    "print(\"Cantidad de cursos con tasa de aprobación 0:\", n_cursos_aprobacion_0)\n",
    "print(\"Cantidad de cursos con tasa de aprobación 1:\", n_cursos_aprobacion_1)\n",
    "print(\"Cantidad de cursos con tasa de aprobación entre 0 y 1:\", n_cursos_aprobacion_otros)"
   ]
  },
  {
   "cell_type": "code",
   "execution_count": 63,
   "id": "743a9ace",
   "metadata": {},
   "outputs": [],
   "source": [
    "# AGREGAR LA TASA DE APROBACIÓN AL DATASET CURSOS\n",
    "df_cursos = df_cursos.drop(columns=['t_aprobacion'], errors='ignore')  # Eliminar columna si existe\n",
    "df_cursos = pd.merge(df_cursos, t_aprobacion, on='id_curso', how='left')\n",
    "df_cursos['t_aprobacion'] = df_cursos['t_aprobacion'].fillna(-1)  # Reemplazar NaN por -1"
   ]
  },
  {
   "cell_type": "code",
   "execution_count": 64,
   "id": "53996ef6",
   "metadata": {},
   "outputs": [
    {
     "name": "stdout",
     "output_type": "stream",
     "text": [
      "DATASET CURSOS CON TASA DE APROBACIÓN:\n",
      "  id_curso                     nombre tipo  creditos  id_ciclo  t_aprobacion\n",
      "0   201001              ALGORÍTMICA I    O         4         2          -1.0\n",
      "1   201003                  CALCULO I    O         4         2           1.0\n",
      "2   201004        MATEMÁTICA BÁSICA I    O         4         2          -1.0\n",
      "3   201007  COMPUTACIÓN E INFORMÁTICA    O         4         2          -1.0\n",
      "4   201008         TEORIA DE SISTEMAS    O         3         2          -1.0\n"
     ]
    }
   ],
   "source": [
    "print(\"DATASET CURSOS CON TASA DE APROBACIÓN:\")\n",
    "print(df_cursos.head())"
   ]
  },
  {
   "cell_type": "code",
   "execution_count": 67,
   "id": "fb7c7ad3",
   "metadata": {},
   "outputs": [],
   "source": [
    "cursos_n_cursos_sin_tasa = df_cursos[df_cursos['t_aprobacion'] == -1].shape[0]\n",
    "cursos_n_cursos_aprobacion_0 = df_cursos[df_cursos['t_aprobacion'] == 0].shape[0]\n",
    "cursos_n_cursos_aprobacion_1 = df_cursos[df_cursos['t_aprobacion'] == 1].shape[0]\n",
    "cursos_n_cursos_aprobacion_otros = df_cursos[(df_cursos['t_aprobacion'] > 0) & (df_cursos['t_aprobacion'] < 1)].shape[0]"
   ]
  },
  {
   "cell_type": "code",
   "execution_count": 68,
   "id": "1b4df0a2",
   "metadata": {},
   "outputs": [
    {
     "name": "stdout",
     "output_type": "stream",
     "text": [
      "Cantidad de cursos en df_cursos: 602\n",
      "Cantidad de cursos sin tasa de aprobación: 390\n",
      "Cantidad de cursos con tasa de aprobación 0: 0\n",
      "Cantidad de cursos con tasa de aprobación 1: 21\n",
      "Cantidad de cursos con tasa de aprobación entre 0 y 1: 191\n"
     ]
    }
   ],
   "source": [
    "print(\"Cantidad de cursos en df_cursos:\", len(df_cursos))\n",
    "print(\"Cantidad de cursos sin tasa de aprobación:\", cursos_n_cursos_sin_tasa)\n",
    "print(\"Cantidad de cursos con tasa de aprobación 0:\", cursos_n_cursos_aprobacion_0)\n",
    "print(\"Cantidad de cursos con tasa de aprobación 1:\", cursos_n_cursos_aprobacion_1)\n",
    "print(\"Cantidad de cursos con tasa de aprobación entre 0 y 1:\", cursos_n_cursos_aprobacion_otros)"
   ]
  },
  {
   "cell_type": "code",
   "execution_count": 69,
   "id": "766dbc8c",
   "metadata": {},
   "outputs": [
    {
     "name": "stdout",
     "output_type": "stream",
     "text": [
      "Tasa de aprobación promedio del dataset cursos: 0.7408406162211733\n"
     ]
    }
   ],
   "source": [
    "# CALCULAR LA TASA DE APROBACIÓN PROMEDIO DEL DATASET CURSOS\n",
    "tasa_aprobacion_promedio = df_cursos[df_cursos['t_aprobacion'] > 0]['t_aprobacion'].mean()\n",
    "print(\"Tasa de aprobación promedio del dataset cursos:\", tasa_aprobacion_promedio)"
   ]
  },
  {
   "cell_type": "code",
   "execution_count": 70,
   "id": "2e638087",
   "metadata": {},
   "outputs": [],
   "source": [
    "# REEMPLAZAR LA TASA DE APROBACIÓN (-1) POR LA TASA DE APROBACIÓN PROMEDIO\n",
    "df_cursos['t_aprobacion'] = df_cursos['t_aprobacion'].replace(-1, tasa_aprobacion_promedio)"
   ]
  },
  {
   "cell_type": "code",
   "execution_count": 71,
   "id": "21afa32c",
   "metadata": {},
   "outputs": [],
   "source": [
    "cursos2_n_cursos_sin_tasa = df_cursos[df_cursos['t_aprobacion'] == -1].shape[0]\n",
    "cursos2_n_cursos_aprobacion_0 = df_cursos[df_cursos['t_aprobacion'] == 0].shape[0]\n",
    "cursos2_n_cursos_aprobacion_1 = df_cursos[df_cursos['t_aprobacion'] == 1].shape[0]\n",
    "cursos2_n_cursos_aprobacion_otros = df_cursos[(df_cursos['t_aprobacion'] > 0) & (df_cursos['t_aprobacion'] < 1)].shape[0]"
   ]
  },
  {
   "cell_type": "code",
   "execution_count": 72,
   "id": "307fc4d1",
   "metadata": {},
   "outputs": [
    {
     "name": "stdout",
     "output_type": "stream",
     "text": [
      "Cantidad de cursos en df_cursos: 602\n",
      "Cantidad de cursos sin tasa de aprobación: 0\n",
      "Cantidad de cursos con tasa de aprobación 0: 0\n",
      "Cantidad de cursos con tasa de aprobación 1: 21\n",
      "Cantidad de cursos con tasa de aprobación entre 0 y 1: 581\n"
     ]
    }
   ],
   "source": [
    "print(\"Cantidad de cursos en df_cursos:\", len(df_cursos))\n",
    "print(\"Cantidad de cursos sin tasa de aprobación:\", cursos2_n_cursos_sin_tasa)\n",
    "print(\"Cantidad de cursos con tasa de aprobación 0:\", cursos2_n_cursos_aprobacion_0)\n",
    "print(\"Cantidad de cursos con tasa de aprobación 1:\", cursos2_n_cursos_aprobacion_1)\n",
    "print(\"Cantidad de cursos con tasa de aprobación entre 0 y 1:\", cursos2_n_cursos_aprobacion_otros)"
   ]
  },
  {
   "cell_type": "code",
   "execution_count": 73,
   "id": "2e399874",
   "metadata": {},
   "outputs": [],
   "source": [
    "# GUARDAR EL DATASET CURSOS CON LA TASA DE APROBACIÓN\n",
    "df_cursos.to_csv('../fuentes_datos/datasets_finales/curso_con_tasa_aprobacion.csv', index=False, sep=';')"
   ]
  }
 ],
 "metadata": {
  "kernelspec": {
   "display_name": ".venv",
   "language": "python",
   "name": "python3"
  },
  "language_info": {
   "codemirror_mode": {
    "name": "ipython",
    "version": 3
   },
   "file_extension": ".py",
   "mimetype": "text/x-python",
   "name": "python",
   "nbconvert_exporter": "python",
   "pygments_lexer": "ipython3",
   "version": "3.12.5"
  }
 },
 "nbformat": 4,
 "nbformat_minor": 5
}
